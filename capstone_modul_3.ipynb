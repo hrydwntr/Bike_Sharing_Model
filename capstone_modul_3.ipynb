{
 "cells": [
  {
   "attachments": {},
   "cell_type": "markdown",
   "metadata": {},
   "source": [
    "### **Bike Sharing (Capital Bikeshare)**"
   ]
  },
  {
   "attachments": {},
   "cell_type": "markdown",
   "metadata": {},
   "source": [
    "[Sumber data Bike Sharing](https://drive.google.com/drive/folders/1zScjAFJvNSParFoMggc631Dp3KtCemZb?usp=sharing)"
   ]
  },
  {
   "attachments": {},
   "cell_type": "markdown",
   "metadata": {},
   "source": [
    "### **Contents**\n",
    "\n",
    "1. Business Problem Understanding\n",
    "2. Data Understanding\n",
    "3. Data Preprocessing\n",
    "4. Modeling\n",
    "5. Conclusion\n",
    "6. Recommendation\n",
    "\n",
    "****"
   ]
  },
  {
   "attachments": {},
   "cell_type": "markdown",
   "metadata": {},
   "source": [
    "### **Business Problem Understanding**"
   ]
  },
  {
   "attachments": {},
   "cell_type": "markdown",
   "metadata": {},
   "source": [
    "**Context**"
   ]
  },
  {
   "attachments": {},
   "cell_type": "markdown",
   "metadata": {},
   "source": [
    "**Capital Bikeshare** adalah sebuah sistem peminjaman sepeda yang terdapat di Amerika Serikat. Sistem peminjaman sepeda ini adalah generasi baru dari rental sepeda tradisional dimana seluruh proses keanggotaan, penyewaan, dan pengembalian telah diotomasi. Melalui sistem ini, pengguna mampu secara mudah menyewa sepeda dari satu lokasi tertentu dan mengembalikkannya di lokasi yang lain. Saat ini, terdapat sekitar lebih dari 500 program *bike-sharing* di seluruh dunia dengan lebih dari 500.000 sepeda. **Capital Bikeshare** sendiri memiliki lebih dari 600 stasiun dan sekitar 5.000 sepeda [Capital Bikeshare](https://capitalbikeshare.com/) yang tersebar di wilayah Washington. Dewasa ini, minat terhadap sistem ini cukup besar dikarenakan peran penting terhadap isu lalu lintas, lingkungan, dan kesehatan.\n",
    "\n",
    "Terlepas dari menariknya pengaplikasian sistem peminjaman sepeda di dunia nyata, karakteristik data yang dihasilkan oleh sistem ini membuat hal tersebut menarik untuk diteliti. Berbanding terbalik dengan sarana transport lain seperti bus atau *subway*, durasi perjalanan, posisi keberangkatan dan kedatangan terekam secara jelas di sistem ini. Fitur ini menjadikan sistem peminjaman sepeda menjadi sebuah *virtual sensor network* yang bisa digunakan untuk merasakan mobilitas di dalam kota. Oleh sebab itu, diharapkan banyak kejadian penting di dalam kota dapat dideteksi melalui pemantauan data ini. "
   ]
  },
  {
   "attachments": {},
   "cell_type": "markdown",
   "metadata": {},
   "source": [
    "**Problem Statement**\n",
    "\n",
    "Salah satu dari banyak tantangan dalam sistem peminjaman ini ialah **untuk menyediakan jumlah unit sepeda yang cukup di setiap kondisi dan situasi. Jika tidak, maka kita bisa gagal dalam memenuhi tuntutan dari pengguna sistem peminjaman sepeda tersebut dan bahkan bisa berujung kepada hilangnya kepercayaan pelanggan**. Namun apabila jumlah ketersediaan sepeda terlalu banyak, hal itu bisa menyebabkan banyaknya unit sepeda yang tidak terpakai, dalam kata lain, tidak efisien. Dimana hal tersebut bisa berimbas kepada membengkaknya biaya manajemen, logistik, serta perawatan untuk tiap unit sepeda. Seperti yang dilansir [Wikipedia](https://en.wikipedia.org/wiki/Capital_Bikeshare), setiap satu unit sepeda berharga $1000 dan biaya operasi tahunan setiap sepedanya adalah $1860."
   ]
  },
  {
   "attachments": {},
   "cell_type": "markdown",
   "metadata": {},
   "source": [
    "**Goals**\n",
    "\n",
    "Berdasarkan permasalahan tersebut, Capital Bikeshare tentu perlu memiliki 'tool' yang baik guna memprediksi serta membantu tiap *stakeholder* yang terkait (baik klien maupun Capital Bikeshare itu sendiri) untuk dapat **menentukan jumlah unit sepeda yang tersedia dengan tepat di setiap kondisi dan situasi**. Adanya perbedaan situasi dan kondisi seperti cuaca, musim, kelembaban, suhu, dapat menambah keakuratan prediksi jumlah unit sepeda yang perlu disediakan. Dimana hal tersebut tidak hanya mendatangkan profit namun juga menjaga efisiensi *operational cost* dari sisi Capital Bikeshare dan jika dari sisi pengguna (klien) tentunya hal tersebut sangat membantu dalam memenuhi tuntutan kebutuhan pelanggan."
   ]
  },
  {
   "attachments": {},
   "cell_type": "markdown",
   "metadata": {},
   "source": [
    "**Analytic Approach**\n",
    "\n",
    "kita akan melakukan analisa terhadap data untuk dapat menemukan pola dari fitur-fitur yang ada, yang membedakan satu kondisi dengan yang lainnya, serta bagaimana tiap fitur tersebut mempengaruhi jumlah unit sepeda yang perlu tersedia. Selanjutnya, kita akan membangun suatu model regresi yang akan membantu dalam menentukan jumlah unit sepeda yang perlu disediakan oleh Capital Bikeshare, yang mana akan berguna untuk menjaga efisiensi *operational cost*."
   ]
  },
  {
   "attachments": {},
   "cell_type": "markdown",
   "metadata": {},
   "source": [
    "**Metric Evaluation**\n",
    "\n",
    "Evaluasi metrik yang akan digunakan adalah MAE, MAPE, dan R-squared. Dimana MAE adalah rataan nilai absolut dari error, sedangkan MAPE adalah rataan persentase error yang dihasilkan oleh model regresi. Semakin kecil nilai MAE dan MAPE yang dihasilkan, berarti model semakin akurat dalam memprediksi jumlah unit sepeda dengan limitasi fitur yang digunakan.  Selain itu, kita juga akan menggunakan nilai R-squared jika model yang nanti terpilih sebagai final model adalah model linear. Nilai R-squared digunakan untuk mengetahui seberapa baik model dapat merepresentasikan varians keseluruhan data, seberapa besar pengaruh variabel independen terhadap variabel dependen. Semakin mendekati 1, maka semakin fit pula modelnya terhadap data observasi. Namun, metrik ini tidak valid untuk model non-linear."
   ]
  },
  {
   "attachments": {},
   "cell_type": "markdown",
   "metadata": {},
   "source": [
    "### **Data Understanding**"
   ]
  },
  {
   "attachments": {},
   "cell_type": "markdown",
   "metadata": {},
   "source": [
    "- Dataset merupakan data peminjaman sepeda di sistem ***Capital Bikeshare*** dalam rentang tahun 2011-2012.\n",
    "- Setiap baris data merepresentasikan informasi terkait waktu peminjaman, cuaca, dan musim yang sesuai.\n",
    "\n",
    "**Attributes Information**\n",
    "\n",
    "| **Attribute** | **Data Type** | **Description** |\n",
    "| --- | --- | --- |\n",
    "| dteday | Object | Date |\n",
    "| hum | Float | Normalized humidity (the values are divided to 100)|\n",
    "| weathersit | Integer | 1: Clear, Few clouds, Partly cloudy, Partly cloudy<br> 2: Mist + Cloudy, Mist + Broken clouds, Mist + Few clouds, Mist<br> 3: Light Snow, Light Rain + Thunderstorm + Scattered clouds, Light Rain + Scattered clouds<br> 4: Heavy Rain + Ice Pallets + Thunderstorm + Mist, Snow + Fog |\n",
    "| holiday | Integer | 0: Not holiday<br> 1: Holiday |\n",
    "| season | Integer | 1: Winter<br> 2: Spring<br> 3: Summer<br> 4: Fall |\n",
    "| atemp | Float | \"Feels like\" temperature in Celsius |\n",
    "| temp | Float | Normalized temperature in Celsius |\n",
    "| hr | Integer | Hour (0 to 23) |\n",
    "| casual | Integer | Count of casual users |\n",
    "| registered | Integer | Count of registered users |\n",
    "| cnt | Integer | Count of total rental bikes including both casual and registered users|"
   ]
  },
  {
   "cell_type": "code",
   "execution_count": 1,
   "metadata": {},
   "outputs": [],
   "source": [
    "# Import library yang dibutuhkan untuk eksplorasi dataset\n",
    "import pandas as pd \n",
    "import numpy as np\n",
    "import matplotlib.pyplot as plt\n",
    "import seaborn as sns\n",
    "\n",
    "import warnings\n",
    "warnings.filterwarnings('ignore')"
   ]
  },
  {
   "attachments": {},
   "cell_type": "markdown",
   "metadata": {},
   "source": [
    "**Load Dataset**"
   ]
  },
  {
   "cell_type": "code",
   "execution_count": 2,
   "metadata": {},
   "outputs": [
    {
     "data": {
      "text/html": [
       "<div>\n",
       "<style scoped>\n",
       "    .dataframe tbody tr th:only-of-type {\n",
       "        vertical-align: middle;\n",
       "    }\n",
       "\n",
       "    .dataframe tbody tr th {\n",
       "        vertical-align: top;\n",
       "    }\n",
       "\n",
       "    .dataframe thead th {\n",
       "        text-align: right;\n",
       "    }\n",
       "</style>\n",
       "<table border=\"1\" class=\"dataframe\">\n",
       "  <thead>\n",
       "    <tr style=\"text-align: right;\">\n",
       "      <th></th>\n",
       "      <th>dteday</th>\n",
       "      <th>hum</th>\n",
       "      <th>weathersit</th>\n",
       "      <th>holiday</th>\n",
       "      <th>season</th>\n",
       "      <th>atemp</th>\n",
       "      <th>temp</th>\n",
       "      <th>hr</th>\n",
       "      <th>casual</th>\n",
       "      <th>registered</th>\n",
       "      <th>cnt</th>\n",
       "    </tr>\n",
       "  </thead>\n",
       "  <tbody>\n",
       "    <tr>\n",
       "      <th>0</th>\n",
       "      <td>2011-12-09</td>\n",
       "      <td>0.62</td>\n",
       "      <td>1</td>\n",
       "      <td>0</td>\n",
       "      <td>4</td>\n",
       "      <td>0.3485</td>\n",
       "      <td>0.36</td>\n",
       "      <td>16</td>\n",
       "      <td>24</td>\n",
       "      <td>226</td>\n",
       "      <td>250</td>\n",
       "    </tr>\n",
       "    <tr>\n",
       "      <th>1</th>\n",
       "      <td>2012-06-17</td>\n",
       "      <td>0.64</td>\n",
       "      <td>1</td>\n",
       "      <td>0</td>\n",
       "      <td>2</td>\n",
       "      <td>0.5152</td>\n",
       "      <td>0.54</td>\n",
       "      <td>4</td>\n",
       "      <td>2</td>\n",
       "      <td>16</td>\n",
       "      <td>18</td>\n",
       "    </tr>\n",
       "    <tr>\n",
       "      <th>2</th>\n",
       "      <td>2011-06-15</td>\n",
       "      <td>0.53</td>\n",
       "      <td>1</td>\n",
       "      <td>0</td>\n",
       "      <td>2</td>\n",
       "      <td>0.6212</td>\n",
       "      <td>0.62</td>\n",
       "      <td>23</td>\n",
       "      <td>17</td>\n",
       "      <td>90</td>\n",
       "      <td>107</td>\n",
       "    </tr>\n",
       "    <tr>\n",
       "      <th>3</th>\n",
       "      <td>2012-03-31</td>\n",
       "      <td>0.87</td>\n",
       "      <td>2</td>\n",
       "      <td>0</td>\n",
       "      <td>2</td>\n",
       "      <td>0.3485</td>\n",
       "      <td>0.36</td>\n",
       "      <td>8</td>\n",
       "      <td>19</td>\n",
       "      <td>126</td>\n",
       "      <td>145</td>\n",
       "    </tr>\n",
       "    <tr>\n",
       "      <th>4</th>\n",
       "      <td>2012-07-31</td>\n",
       "      <td>0.55</td>\n",
       "      <td>1</td>\n",
       "      <td>0</td>\n",
       "      <td>3</td>\n",
       "      <td>0.6970</td>\n",
       "      <td>0.76</td>\n",
       "      <td>18</td>\n",
       "      <td>99</td>\n",
       "      <td>758</td>\n",
       "      <td>857</td>\n",
       "    </tr>\n",
       "  </tbody>\n",
       "</table>\n",
       "</div>"
      ],
      "text/plain": [
       "       dteday   hum  weathersit  holiday  season   atemp  temp  hr  casual  \\\n",
       "0  2011-12-09  0.62           1        0       4  0.3485  0.36  16      24   \n",
       "1  2012-06-17  0.64           1        0       2  0.5152  0.54   4       2   \n",
       "2  2011-06-15  0.53           1        0       2  0.6212  0.62  23      17   \n",
       "3  2012-03-31  0.87           2        0       2  0.3485  0.36   8      19   \n",
       "4  2012-07-31  0.55           1        0       3  0.6970  0.76  18      99   \n",
       "\n",
       "   registered  cnt  \n",
       "0         226  250  \n",
       "1          16   18  \n",
       "2          90  107  \n",
       "3         126  145  \n",
       "4         758  857  "
      ]
     },
     "execution_count": 2,
     "metadata": {},
     "output_type": "execute_result"
    }
   ],
   "source": [
    "# Load dataset\n",
    "df = pd.read_csv('data_bike_sharing.csv')\n",
    "df.head()"
   ]
  },
  {
   "attachments": {},
   "cell_type": "markdown",
   "metadata": {},
   "source": [
    "### **Exploratory Data Analysis**"
   ]
  },
  {
   "attachments": {},
   "cell_type": "markdown",
   "metadata": {},
   "source": [
    "**Melakukan pengecekan untuk mengetahui jam-jam yang dianggap ramain**"
   ]
  },
  {
   "cell_type": "code",
   "execution_count": 7,
   "metadata": {},
   "outputs": [
    {
     "data": {
      "text/plain": [
       "Text(0.5, 1.0, 'Jam Ramain Untuk Sepeda')"
      ]
     },
     "execution_count": 7,
     "metadata": {},
     "output_type": "execute_result"
    },
    {
     "data": {
      "image/png": "[encoded data removed]",
      "text/plain": [
       "<Figure size 800x500 with 1 Axes>"
      ]
     },
     "metadata": {},
     "output_type": "display_data"
    }
   ],
   "source": [
    "plt.figure(figsize=(8,5))\n",
    "plt.bar(df['hr'],\n",
    "        df['cnt'])\n",
    "plt.xlabel('hours')\n",
    "plt.ylabel('count')\n",
    "plt.title('Jam Ramain Untuk Sepeda', size=10)"
   ]
  },
  {
   "attachments": {},
   "cell_type": "markdown",
   "metadata": {},
   "source": [
    "<p>Berdasarkan hasil dari visualisasi diatas terdapat jam-jam keramaian untuk menjadi suatu insight untuk dapat lebih mengetahui terkait dengan data yang saya miliki, disini terlihat bahwa tidak semua jam itu memiliki jumlah keramaian yang sama, adanya penurunan keramaian dari jam 0 sampai dengan 5 dikarenakan di jam tersebut untuk jumlah orang yang memiliki aktifitas menggunakan sepeda sangat minim namun setelah itu adanya peningkatan dalam penggunakan sepeda sampai dengan puncaknya adalah diatas jam 15 yang terlihat dari visualisasi diatas.<p> "
   ]
  },
  {
   "attachments": {},
   "cell_type": "markdown",
   "metadata": {},
   "source": [
    "### **Data Preprocessing**"
   ]
  },
  {
   "attachments": {},
   "cell_type": "markdown",
   "metadata": {},
   "source": [
    "Pada tahap ini, kita akan melakukan cleaning pada data yang nantinya data yang sudah dibersihkan akan kita gunakan untuk proses analisis selanjutnya. Beberapa hal yang perlu dilakukan adalah:\n",
    "- Menyesuaikan beberapa nama kolom dan value untuk memudahkan keterbacaan data.\n",
    "- Mengubah tipe data feature agar sesuai dengan nilai yang dimiliki.\n",
    "- Mengecek missing value dan data duplikat.\n",
    "- Drop feature yang tidak memiliki relevansi terhadap permasalahan yang sedang dihadapi.\n",
    "- Mengecek korelasi antar data.\n",
    "- Mengecek outlier pada data numerik."
   ]
  },
  {
   "cell_type": "code",
   "execution_count": 3,
   "metadata": {},
   "outputs": [],
   "source": [
    "# Membuat duplikat Dataframe\n",
    "df_model = df.copy()"
   ]
  },
  {
   "cell_type": "code",
   "execution_count": 76,
   "metadata": {},
   "outputs": [
    {
     "data": {
      "text/html": [
       "<div>\n",
       "<style scoped>\n",
       "    .dataframe tbody tr th:only-of-type {\n",
       "        vertical-align: middle;\n",
       "    }\n",
       "\n",
       "    .dataframe tbody tr th {\n",
       "        vertical-align: top;\n",
       "    }\n",
       "\n",
       "    .dataframe thead th {\n",
       "        text-align: right;\n",
       "    }\n",
       "</style>\n",
       "<table border=\"1\" class=\"dataframe\">\n",
       "  <thead>\n",
       "    <tr style=\"text-align: right;\">\n",
       "      <th></th>\n",
       "      <th>humidity</th>\n",
       "      <th>weather</th>\n",
       "      <th>holiday</th>\n",
       "      <th>season</th>\n",
       "      <th>atemp</th>\n",
       "      <th>hour</th>\n",
       "      <th>count</th>\n",
       "      <th>year</th>\n",
       "      <th>month</th>\n",
       "      <th>day</th>\n",
       "    </tr>\n",
       "  </thead>\n",
       "  <tbody>\n",
       "    <tr>\n",
       "      <th>0</th>\n",
       "      <td>0.81</td>\n",
       "      <td>clear</td>\n",
       "      <td>0</td>\n",
       "      <td>winter</td>\n",
       "      <td>0.2879</td>\n",
       "      <td>0</td>\n",
       "      <td>16</td>\n",
       "      <td>2011</td>\n",
       "      <td>1</td>\n",
       "      <td>Saturday</td>\n",
       "    </tr>\n",
       "    <tr>\n",
       "      <th>1</th>\n",
       "      <td>0.80</td>\n",
       "      <td>clear</td>\n",
       "      <td>0</td>\n",
       "      <td>winter</td>\n",
       "      <td>0.2727</td>\n",
       "      <td>1</td>\n",
       "      <td>40</td>\n",
       "      <td>2011</td>\n",
       "      <td>1</td>\n",
       "      <td>Saturday</td>\n",
       "    </tr>\n",
       "    <tr>\n",
       "      <th>2</th>\n",
       "      <td>0.80</td>\n",
       "      <td>clear</td>\n",
       "      <td>0</td>\n",
       "      <td>winter</td>\n",
       "      <td>0.2727</td>\n",
       "      <td>2</td>\n",
       "      <td>32</td>\n",
       "      <td>2011</td>\n",
       "      <td>1</td>\n",
       "      <td>Saturday</td>\n",
       "    </tr>\n",
       "    <tr>\n",
       "      <th>3</th>\n",
       "      <td>0.75</td>\n",
       "      <td>clear</td>\n",
       "      <td>0</td>\n",
       "      <td>winter</td>\n",
       "      <td>0.2879</td>\n",
       "      <td>3</td>\n",
       "      <td>13</td>\n",
       "      <td>2011</td>\n",
       "      <td>1</td>\n",
       "      <td>Saturday</td>\n",
       "    </tr>\n",
       "    <tr>\n",
       "      <th>4</th>\n",
       "      <td>0.75</td>\n",
       "      <td>clear</td>\n",
       "      <td>0</td>\n",
       "      <td>winter</td>\n",
       "      <td>0.2879</td>\n",
       "      <td>4</td>\n",
       "      <td>1</td>\n",
       "      <td>2011</td>\n",
       "      <td>1</td>\n",
       "      <td>Saturday</td>\n",
       "    </tr>\n",
       "  </tbody>\n",
       "</table>\n",
       "</div>"
      ],
      "text/plain": [
       "   humidity weather holiday  season   atemp  hour  count  year month       day\n",
       "0      0.81   clear       0  winter  0.2879     0     16  2011     1  Saturday\n",
       "1      0.80   clear       0  winter  0.2727     1     40  2011     1  Saturday\n",
       "2      0.80   clear       0  winter  0.2727     2     32  2011     1  Saturday\n",
       "3      0.75   clear       0  winter  0.2879     3     13  2011     1  Saturday\n",
       "4      0.75   clear       0  winter  0.2879     4      1  2011     1  Saturday"
      ]
     },
     "execution_count": 76,
     "metadata": {},
     "output_type": "execute_result"
    }
   ],
   "source": [
    "df_model.head()"
   ]
  },
  {
   "attachments": {},
   "cell_type": "markdown",
   "metadata": {},
   "source": [
    "**Penyesuaian Nama Kolom dan Value**"
   ]
  },
  {
   "cell_type": "code",
   "execution_count": 7,
   "metadata": {},
   "outputs": [],
   "source": [
    "# Mengurutkan dataset berdasarkan Tanggal dan Jam\n",
    "df_model = df_model.sort_values(['dteday', 'hr']).reset_index()\n",
    "df_model.drop('index', axis=1, inplace=True)"
   ]
  },
  {
   "cell_type": "code",
   "execution_count": 6,
   "metadata": {},
   "outputs": [],
   "source": [
    "# Mengubah value kolom 'season' dan 'weathersit' dari numerik menjadi penamaan kategori yang sesuai\n",
    "df_model['season'] = df_model['season'].replace({1:'winter', 2:'spring', 3:'summer', 4:'fall'})\n",
    "df_model['weathersit'] = df_model['weathersit'].replace({1:'clear', 2:'cloudy', 3:'Light snow/Light rain', 4:'Heavy rain/Snow'})"
   ]
  },
  {
   "cell_type": "code",
   "execution_count": 12,
   "metadata": {},
   "outputs": [
    {
     "data": {
      "text/html": [
       "<div>\n",
       "<style scoped>\n",
       "    .dataframe tbody tr th:only-of-type {\n",
       "        vertical-align: middle;\n",
       "    }\n",
       "\n",
       "    .dataframe tbody tr th {\n",
       "        vertical-align: top;\n",
       "    }\n",
       "\n",
       "    .dataframe thead th {\n",
       "        text-align: right;\n",
       "    }\n",
       "</style>\n",
       "<table border=\"1\" class=\"dataframe\">\n",
       "  <thead>\n",
       "    <tr style=\"text-align: right;\">\n",
       "      <th></th>\n",
       "      <th>date</th>\n",
       "      <th>humidity</th>\n",
       "      <th>weather</th>\n",
       "      <th>holiday</th>\n",
       "      <th>season</th>\n",
       "      <th>atemp</th>\n",
       "      <th>temp</th>\n",
       "      <th>hour</th>\n",
       "      <th>casual</th>\n",
       "      <th>registered</th>\n",
       "      <th>count</th>\n",
       "    </tr>\n",
       "  </thead>\n",
       "  <tbody>\n",
       "    <tr>\n",
       "      <th>0</th>\n",
       "      <td>2011-01-01</td>\n",
       "      <td>0.81</td>\n",
       "      <td>clear</td>\n",
       "      <td>0</td>\n",
       "      <td>winter</td>\n",
       "      <td>0.2879</td>\n",
       "      <td>0.24</td>\n",
       "      <td>0</td>\n",
       "      <td>3</td>\n",
       "      <td>13</td>\n",
       "      <td>16</td>\n",
       "    </tr>\n",
       "    <tr>\n",
       "      <th>1</th>\n",
       "      <td>2011-01-01</td>\n",
       "      <td>0.80</td>\n",
       "      <td>clear</td>\n",
       "      <td>0</td>\n",
       "      <td>winter</td>\n",
       "      <td>0.2727</td>\n",
       "      <td>0.22</td>\n",
       "      <td>1</td>\n",
       "      <td>8</td>\n",
       "      <td>32</td>\n",
       "      <td>40</td>\n",
       "    </tr>\n",
       "  </tbody>\n",
       "</table>\n",
       "</div>"
      ],
      "text/plain": [
       "         date  humidity weather  holiday  season   atemp  temp  hour  casual  \\\n",
       "0  2011-01-01      0.81   clear        0  winter  0.2879  0.24     0       3   \n",
       "1  2011-01-01      0.80   clear        0  winter  0.2727  0.22     1       8   \n",
       "\n",
       "   registered  count  \n",
       "0          13     16  \n",
       "1          32     40  "
      ]
     },
     "execution_count": 12,
     "metadata": {},
     "output_type": "execute_result"
    }
   ],
   "source": [
    "# Mengubah beberapa nama kolom\n",
    "df_model = df_model.rename(columns={'weathersit':'weather',\n",
    "                       'dteday':'date',\n",
    "                       'hr':'hour',\n",
    "                       'hum':'humidity',\n",
    "                       'cnt':'count'})\n",
    "df_model.head(2)"
   ]
  },
  {
   "cell_type": "code",
   "execution_count": 13,
   "metadata": {},
   "outputs": [
    {
     "data": {
      "text/plain": [
       "summer    3169\n",
       "spring    3074\n",
       "winter    3023\n",
       "fall      2899\n",
       "Name: season, dtype: int64"
      ]
     },
     "execution_count": 13,
     "metadata": {},
     "output_type": "execute_result"
    }
   ],
   "source": [
    "df_model['season'].value_counts()"
   ]
  },
  {
   "attachments": {},
   "cell_type": "markdown",
   "metadata": {},
   "source": [
    "**Mengubah Tipe Data dan Memisahkan Data Kolom 'date'**"
   ]
  },
  {
   "cell_type": "code",
   "execution_count": 14,
   "metadata": {},
   "outputs": [],
   "source": [
    "# Mengubah tipe data 'date' menjadi DateTime\n",
    "df_model['date'] = df_model['date'].astype('datetime64')\n",
    "\n",
    "# Membuat kolom untuk memisahkan data Tahun, Bulan, dan Hari\n",
    "df_model['year'] = df_model['date'].dt.year\n",
    "df_model['month'] = df_model['date'].dt.month\n",
    "df_model['day'] = df_model['date'].dt.day_name()"
   ]
  },
  {
   "cell_type": "code",
   "execution_count": 15,
   "metadata": {},
   "outputs": [],
   "source": [
    "# Mengubah tipe data feature 'holiday', 'year', dan 'month' menjadi category\n",
    "df_model['holiday'] = df_model['holiday'].astype('category')\n",
    "df_model['year'] = df_model['year'].astype('category')\n",
    "df_model['month'] = df_model['month'].astype('category')"
   ]
  },
  {
   "cell_type": "code",
   "execution_count": 16,
   "metadata": {},
   "outputs": [
    {
     "name": "stdout",
     "output_type": "stream",
     "text": [
      "<class 'pandas.core.frame.DataFrame'>\n",
      "RangeIndex: 12165 entries, 0 to 12164\n",
      "Data columns (total 14 columns):\n",
      " #   Column      Non-Null Count  Dtype         \n",
      "---  ------      --------------  -----         \n",
      " 0   date        12165 non-null  datetime64[ns]\n",
      " 1   humidity    12165 non-null  float64       \n",
      " 2   weather     12165 non-null  object        \n",
      " 3   holiday     12165 non-null  category      \n",
      " 4   season      12165 non-null  object        \n",
      " 5   atemp       12165 non-null  float64       \n",
      " 6   temp        12165 non-null  float64       \n",
      " 7   hour        12165 non-null  int64         \n",
      " 8   casual      12165 non-null  int64         \n",
      " 9   registered  12165 non-null  int64         \n",
      " 10  count       12165 non-null  int64         \n",
      " 11  year        12165 non-null  category      \n",
      " 12  month       12165 non-null  category      \n",
      " 13  day         12165 non-null  object        \n",
      "dtypes: category(3), datetime64[ns](1), float64(3), int64(4), object(3)\n",
      "memory usage: 1.1+ MB\n"
     ]
    }
   ],
   "source": [
    "df_model.info()"
   ]
  },
  {
   "attachments": {},
   "cell_type": "markdown",
   "metadata": {},
   "source": [
    "**Checking Missing Value dan Data Duplikat**"
   ]
  },
  {
   "cell_type": "code",
   "execution_count": 18,
   "metadata": {},
   "outputs": [
    {
     "data": {
      "text/plain": [
       "False"
      ]
     },
     "execution_count": 18,
     "metadata": {},
     "output_type": "execute_result"
    }
   ],
   "source": [
    "df_model.duplicated().any()"
   ]
  },
  {
   "cell_type": "code",
   "execution_count": 19,
   "metadata": {},
   "outputs": [
    {
     "data": {
      "text/html": [
       "<div>\n",
       "<style scoped>\n",
       "    .dataframe tbody tr th:only-of-type {\n",
       "        vertical-align: middle;\n",
       "    }\n",
       "\n",
       "    .dataframe tbody tr th {\n",
       "        vertical-align: top;\n",
       "    }\n",
       "\n",
       "    .dataframe thead th {\n",
       "        text-align: right;\n",
       "    }\n",
       "</style>\n",
       "<table border=\"1\" class=\"dataframe\">\n",
       "  <thead>\n",
       "    <tr style=\"text-align: right;\">\n",
       "      <th></th>\n",
       "      <th>dataFeatures</th>\n",
       "      <th>dataType</th>\n",
       "      <th>null</th>\n",
       "      <th>nullPct</th>\n",
       "      <th>unique</th>\n",
       "      <th>uniqueSample</th>\n",
       "    </tr>\n",
       "  </thead>\n",
       "  <tbody>\n",
       "    <tr>\n",
       "      <th>0</th>\n",
       "      <td>date</td>\n",
       "      <td>datetime64[ns]</td>\n",
       "      <td>0</td>\n",
       "      <td>0.0</td>\n",
       "      <td>731</td>\n",
       "      <td>[2012-09-06T00:00:00.000000000, 2012-11-06T00:...</td>\n",
       "    </tr>\n",
       "    <tr>\n",
       "      <th>1</th>\n",
       "      <td>humidity</td>\n",
       "      <td>float64</td>\n",
       "      <td>0</td>\n",
       "      <td>0.0</td>\n",
       "      <td>89</td>\n",
       "      <td>[0.97, 0.51]</td>\n",
       "    </tr>\n",
       "    <tr>\n",
       "      <th>2</th>\n",
       "      <td>weather</td>\n",
       "      <td>object</td>\n",
       "      <td>0</td>\n",
       "      <td>0.0</td>\n",
       "      <td>4</td>\n",
       "      <td>[cloudy, Heavy rain/Snow]</td>\n",
       "    </tr>\n",
       "    <tr>\n",
       "      <th>3</th>\n",
       "      <td>holiday</td>\n",
       "      <td>category</td>\n",
       "      <td>0</td>\n",
       "      <td>0.0</td>\n",
       "      <td>2</td>\n",
       "      <td>[1, 0]</td>\n",
       "    </tr>\n",
       "    <tr>\n",
       "      <th>4</th>\n",
       "      <td>season</td>\n",
       "      <td>object</td>\n",
       "      <td>0</td>\n",
       "      <td>0.0</td>\n",
       "      <td>4</td>\n",
       "      <td>[fall, winter]</td>\n",
       "    </tr>\n",
       "    <tr>\n",
       "      <th>5</th>\n",
       "      <td>atemp</td>\n",
       "      <td>float64</td>\n",
       "      <td>0</td>\n",
       "      <td>0.0</td>\n",
       "      <td>65</td>\n",
       "      <td>[0.7576, 0.4545]</td>\n",
       "    </tr>\n",
       "    <tr>\n",
       "      <th>6</th>\n",
       "      <td>temp</td>\n",
       "      <td>float64</td>\n",
       "      <td>0</td>\n",
       "      <td>0.0</td>\n",
       "      <td>50</td>\n",
       "      <td>[0.24, 0.36]</td>\n",
       "    </tr>\n",
       "    <tr>\n",
       "      <th>7</th>\n",
       "      <td>hour</td>\n",
       "      <td>int64</td>\n",
       "      <td>0</td>\n",
       "      <td>0.0</td>\n",
       "      <td>24</td>\n",
       "      <td>[10, 23]</td>\n",
       "    </tr>\n",
       "    <tr>\n",
       "      <th>8</th>\n",
       "      <td>casual</td>\n",
       "      <td>int64</td>\n",
       "      <td>0</td>\n",
       "      <td>0.0</td>\n",
       "      <td>305</td>\n",
       "      <td>[112, 176]</td>\n",
       "    </tr>\n",
       "    <tr>\n",
       "      <th>9</th>\n",
       "      <td>registered</td>\n",
       "      <td>int64</td>\n",
       "      <td>0</td>\n",
       "      <td>0.0</td>\n",
       "      <td>742</td>\n",
       "      <td>[83, 161]</td>\n",
       "    </tr>\n",
       "    <tr>\n",
       "      <th>10</th>\n",
       "      <td>count</td>\n",
       "      <td>int64</td>\n",
       "      <td>0</td>\n",
       "      <td>0.0</td>\n",
       "      <td>830</td>\n",
       "      <td>[323, 511]</td>\n",
       "    </tr>\n",
       "    <tr>\n",
       "      <th>11</th>\n",
       "      <td>year</td>\n",
       "      <td>category</td>\n",
       "      <td>0</td>\n",
       "      <td>0.0</td>\n",
       "      <td>2</td>\n",
       "      <td>[2011, 2012]</td>\n",
       "    </tr>\n",
       "    <tr>\n",
       "      <th>12</th>\n",
       "      <td>month</td>\n",
       "      <td>category</td>\n",
       "      <td>0</td>\n",
       "      <td>0.0</td>\n",
       "      <td>12</td>\n",
       "      <td>[5, 10]</td>\n",
       "    </tr>\n",
       "    <tr>\n",
       "      <th>13</th>\n",
       "      <td>day</td>\n",
       "      <td>object</td>\n",
       "      <td>0</td>\n",
       "      <td>0.0</td>\n",
       "      <td>7</td>\n",
       "      <td>[Monday, Thursday]</td>\n",
       "    </tr>\n",
       "  </tbody>\n",
       "</table>\n",
       "</div>"
      ],
      "text/plain": [
       "   dataFeatures        dataType  null  nullPct  unique  \\\n",
       "0          date  datetime64[ns]     0      0.0     731   \n",
       "1      humidity         float64     0      0.0      89   \n",
       "2       weather          object     0      0.0       4   \n",
       "3       holiday        category     0      0.0       2   \n",
       "4        season          object     0      0.0       4   \n",
       "5         atemp         float64     0      0.0      65   \n",
       "6          temp         float64     0      0.0      50   \n",
       "7          hour           int64     0      0.0      24   \n",
       "8        casual           int64     0      0.0     305   \n",
       "9    registered           int64     0      0.0     742   \n",
       "10        count           int64     0      0.0     830   \n",
       "11         year        category     0      0.0       2   \n",
       "12        month        category     0      0.0      12   \n",
       "13          day          object     0      0.0       7   \n",
       "\n",
       "                                         uniqueSample  \n",
       "0   [2012-09-06T00:00:00.000000000, 2012-11-06T00:...  \n",
       "1                                        [0.97, 0.51]  \n",
       "2                           [cloudy, Heavy rain/Snow]  \n",
       "3                                              [1, 0]  \n",
       "4                                      [fall, winter]  \n",
       "5                                    [0.7576, 0.4545]  \n",
       "6                                        [0.24, 0.36]  \n",
       "7                                            [10, 23]  \n",
       "8                                          [112, 176]  \n",
       "9                                           [83, 161]  \n",
       "10                                         [323, 511]  \n",
       "11                                       [2011, 2012]  \n",
       "12                                            [5, 10]  \n",
       "13                                 [Monday, Thursday]  "
      ]
     },
     "execution_count": 19,
     "metadata": {},
     "output_type": "execute_result"
    }
   ],
   "source": [
    "# Cek info lebih detail untuk setiap feature\n",
    "listItem = []\n",
    "\n",
    "for col in df_model.columns:\n",
    "    listItem.append([col, df_model[col].dtype, df_model[col].isna().sum(), round((df_model[col].isna().sum()/len(df_model[col]))*100,2),\n",
    "                    df_model[col].nunique(), list(df_model[col].drop_duplicates().sample(2).values)])\n",
    "\n",
    "df_model_desc = pd.DataFrame(columns=['dataFeatures', 'dataType', 'null', 'nullPct', 'unique', 'uniqueSample'],\n",
    "                     data=listItem)\n",
    "df_model_desc"
   ]
  },
  {
   "attachments": {},
   "cell_type": "markdown",
   "metadata": {},
   "source": [
    "Dari info dataset di atas, diketahui tidak terdapat *missing value* pada dataset."
   ]
  },
  {
   "attachments": {},
   "cell_type": "markdown",
   "metadata": {},
   "source": [
    "**Drop Column (Feature Selection)**"
   ]
  },
  {
   "attachments": {},
   "cell_type": "markdown",
   "metadata": {},
   "source": [
    "Tentu perlu ada pertimbangan sebelum melakukan drop pada kolom atau feature. Sebagai pertimbangan, pada tahap awal ini kita bisa menggunakan domain knowledge untuk memutuskan kira-kira feature mana saja yang dirasa tidak memiliki relevansi.<br>\n",
    "- Jika ditinjau berdasar domain knowledge, feature `Casual` dan `Registered` tidak memiliki relevansi dan kepentingan untuk analisis prediktif. Hal ini dikarenakan analisis prediktif ini lebih dititikberatkan kepada total jumlah unit sepeda yang disewa, terlepas dari status pengguna/penyewa.\n",
    "- kolom `date` juga sudah tidak diperlukan karena nilai-nilai yang terdapat di dalamnya sudah diwakili dengan kolom `year`, `month`, dan `day`"
   ]
  },
  {
   "cell_type": "code",
   "execution_count": 20,
   "metadata": {},
   "outputs": [],
   "source": [
    "# Drop kolom (feature) yang tidak diperlukan\n",
    "df_model.drop(columns=['date', 'casual', 'registered'], inplace=True)"
   ]
  },
  {
   "attachments": {},
   "cell_type": "markdown",
   "metadata": {},
   "source": [
    "**Data Correlation**"
   ]
  },
  {
   "cell_type": "code",
   "execution_count": 21,
   "metadata": {},
   "outputs": [
    {
     "data": {
      "image/png": "[encoded data removed]",
      "text/plain": [
       "<Figure size 1500x1200 with 2 Axes>"
      ]
     },
     "metadata": {},
     "output_type": "display_data"
    }
   ],
   "source": [
    "# Correlation matrix\n",
    "plt.figure(figsize=(15, 12))\n",
    "palette=sns.diverging_palette(20, 220, n=256)\n",
    "corr = df_model.corr(method='spearman')\n",
    "sns.heatmap(corr, annot=True, fmt='.2f', cmap=palette, square=True, linewidths=.5)\n",
    "plt.title('Correlation Matrix', size=15, weight='bold');"
   ]
  },
  {
   "cell_type": "code",
   "execution_count": 22,
   "metadata": {},
   "outputs": [
    {
     "name": "stdout",
     "output_type": "stream",
     "text": [
      "<class 'pandas.core.frame.DataFrame'>\n",
      "RangeIndex: 12165 entries, 0 to 12164\n",
      "Data columns (total 11 columns):\n",
      " #   Column    Non-Null Count  Dtype   \n",
      "---  ------    --------------  -----   \n",
      " 0   humidity  12165 non-null  float64 \n",
      " 1   weather   12165 non-null  object  \n",
      " 2   holiday   12165 non-null  category\n",
      " 3   season    12165 non-null  object  \n",
      " 4   atemp     12165 non-null  float64 \n",
      " 5   temp      12165 non-null  float64 \n",
      " 6   hour      12165 non-null  int64   \n",
      " 7   count     12165 non-null  int64   \n",
      " 8   year      12165 non-null  category\n",
      " 9   month     12165 non-null  category\n",
      " 10  day       12165 non-null  object  \n",
      "dtypes: category(3), float64(3), int64(2), object(3)\n",
      "memory usage: 796.7+ KB\n"
     ]
    }
   ],
   "source": [
    "df_model.info()"
   ]
  },
  {
   "cell_type": "code",
   "execution_count": 23,
   "metadata": {},
   "outputs": [],
   "source": [
    "from statsmodels.stats.outliers_influence import variance_inflation_factor\n",
    "\n",
    "def calc_vif(X):\n",
    "    vif = pd.DataFrame()\n",
    "    vif['variables'] = X.columns\n",
    "    vif['VIF'] = [variance_inflation_factor(X.values, i) for i in range(X.shape[1])]\n",
    "    return(vif)"
   ]
  },
  {
   "cell_type": "code",
   "execution_count": 24,
   "metadata": {},
   "outputs": [
    {
     "data": {
      "text/html": [
       "<div>\n",
       "<style scoped>\n",
       "    .dataframe tbody tr th:only-of-type {\n",
       "        vertical-align: middle;\n",
       "    }\n",
       "\n",
       "    .dataframe tbody tr th {\n",
       "        vertical-align: top;\n",
       "    }\n",
       "\n",
       "    .dataframe thead th {\n",
       "        text-align: right;\n",
       "    }\n",
       "</style>\n",
       "<table border=\"1\" class=\"dataframe\">\n",
       "  <thead>\n",
       "    <tr style=\"text-align: right;\">\n",
       "      <th></th>\n",
       "      <th>variables</th>\n",
       "      <th>VIF</th>\n",
       "    </tr>\n",
       "  </thead>\n",
       "  <tbody>\n",
       "    <tr>\n",
       "      <th>0</th>\n",
       "      <td>humidity</td>\n",
       "      <td>6.047913</td>\n",
       "    </tr>\n",
       "    <tr>\n",
       "      <th>1</th>\n",
       "      <td>atemp</td>\n",
       "      <td>338.317799</td>\n",
       "    </tr>\n",
       "    <tr>\n",
       "      <th>2</th>\n",
       "      <td>temp</td>\n",
       "      <td>306.108156</td>\n",
       "    </tr>\n",
       "    <tr>\n",
       "      <th>3</th>\n",
       "      <td>hour</td>\n",
       "      <td>3.849810</td>\n",
       "    </tr>\n",
       "    <tr>\n",
       "      <th>4</th>\n",
       "      <td>count</td>\n",
       "      <td>3.063218</td>\n",
       "    </tr>\n",
       "  </tbody>\n",
       "</table>\n",
       "</div>"
      ],
      "text/plain": [
       "  variables         VIF\n",
       "0  humidity    6.047913\n",
       "1     atemp  338.317799\n",
       "2      temp  306.108156\n",
       "3      hour    3.849810\n",
       "4     count    3.063218"
      ]
     },
     "execution_count": 24,
     "metadata": {},
     "output_type": "execute_result"
    }
   ],
   "source": [
    "calc_vif(df_model[['humidity', 'atemp', 'temp', 'hour', 'count']])"
   ]
  },
  {
   "attachments": {},
   "cell_type": "markdown",
   "metadata": {},
   "source": [
    "Correlation matrix di atas menunjukkan bahwa ada beberapa feature yang memiliki korelasi (tidak cukup kuat) terhadap `count`. Korelasi positif paling tinggi dimiliki oleh feature `temp`, `atemp`, dan `hour`. Sedangkan untuk korelasi negatif paling tinggi dimiliki oleh feature `humidity`. Hal ini berarti semakin tingginya tingkat kelembapan (humidity), maka jumlah penyewaan sepeda semakin sedikit.\n",
    "\n",
    "Namun yang perlu diperhatikan lebih jauh adalah korelasi antara kolom `temp` dan `atemp` yang sangat tinggi (0.99), hal ini mengindikasikan adanya multikolinearitas pada 2 kolom tersebut. Hal tersebut juga dapat dilihat skor VIF yang dihasilkan mencapai nilai ratusan (338 dan 306), sedangkan batas nilai VIF untuk tergolong multikolinearitas adalah di atas 4. Oleh karena itu kita akan drop salah satu yaitu `temp`. Hal ini didasarkan kepada domain knowledge, dimana `temp` berisikan nilai temperatur yang dibaca oleh termometer, sedangkan `atemp` berisikan nilai temperatur yang memperhitungkan suhu udara, kelembaban, dan kecepatan angin [(sumber MetOffice)](https://blog.metoffice.gov.uk/2012/02/15/what-is-feels-like-temperature/)."
   ]
  },
  {
   "cell_type": "code",
   "execution_count": 27,
   "metadata": {},
   "outputs": [],
   "source": [
    "# Drop kolom 'temp'\n",
    "df_model = df_model.drop('temp', axis=1)"
   ]
  },
  {
   "cell_type": "code",
   "execution_count": 28,
   "metadata": {},
   "outputs": [
    {
     "data": {
      "image/png": "[encoded data removed]",
      "text/plain": [
       "<Figure size 1500x1200 with 2 Axes>"
      ]
     },
     "metadata": {},
     "output_type": "display_data"
    }
   ],
   "source": [
    "plt.figure(figsize=(15, 12))\n",
    "palette=sns.diverging_palette(20, 220, n=256)\n",
    "corr = df_model.corr(method='spearman')\n",
    "sns.heatmap(corr, annot=True, fmt='.2f', cmap=palette, square=True, linewidths=.5)\n",
    "plt.title('Correlation Matrix', size=15, weight='bold');"
   ]
  },
  {
   "cell_type": "code",
   "execution_count": 91,
   "metadata": {},
   "outputs": [
    {
     "data": {
      "text/html": [
       "<div>\n",
       "<style scoped>\n",
       "    .dataframe tbody tr th:only-of-type {\n",
       "        vertical-align: middle;\n",
       "    }\n",
       "\n",
       "    .dataframe tbody tr th {\n",
       "        vertical-align: top;\n",
       "    }\n",
       "\n",
       "    .dataframe thead th {\n",
       "        text-align: right;\n",
       "    }\n",
       "</style>\n",
       "<table border=\"1\" class=\"dataframe\">\n",
       "  <thead>\n",
       "    <tr style=\"text-align: right;\">\n",
       "      <th></th>\n",
       "      <th>variables</th>\n",
       "      <th>VIF</th>\n",
       "    </tr>\n",
       "  </thead>\n",
       "  <tbody>\n",
       "    <tr>\n",
       "      <th>0</th>\n",
       "      <td>humidity</td>\n",
       "      <td>5.596965</td>\n",
       "    </tr>\n",
       "    <tr>\n",
       "      <th>1</th>\n",
       "      <td>atemp</td>\n",
       "      <td>8.385071</td>\n",
       "    </tr>\n",
       "    <tr>\n",
       "      <th>2</th>\n",
       "      <td>hour</td>\n",
       "      <td>3.842381</td>\n",
       "    </tr>\n",
       "    <tr>\n",
       "      <th>3</th>\n",
       "      <td>count</td>\n",
       "      <td>3.071290</td>\n",
       "    </tr>\n",
       "  </tbody>\n",
       "</table>\n",
       "</div>"
      ],
      "text/plain": [
       "  variables       VIF\n",
       "0  humidity  5.596965\n",
       "1     atemp  8.385071\n",
       "2      hour  3.842381\n",
       "3     count  3.071290"
      ]
     },
     "execution_count": 91,
     "metadata": {},
     "output_type": "execute_result"
    }
   ],
   "source": [
    "calc_vif(df_model[['humidity', 'atemp', 'hour', 'count']])"
   ]
  },
  {
   "attachments": {},
   "cell_type": "markdown",
   "metadata": {},
   "source": [
    "Setelah kolom `temp` di drop, terlihat dari skor VIF terjadinya penurunan yang sangat signifikan untuk kolom `atemp` menjadi sebesar 8.3. Walaupun skor VIF untuk kolom `humidity` dan `atemp` masih bernilai di atas 4, namun kita akan tetap menggunakan kedua feature karena keduanya memiliki pengaruh yang signifikan untuk menentukan jumlah unit sepeda yang perlu tersedia berdasarkan situasi dan kondisi."
   ]
  },
  {
   "attachments": {},
   "cell_type": "markdown",
   "metadata": {},
   "source": [
    "**Checking Outliers**"
   ]
  },
  {
   "attachments": {},
   "cell_type": "markdown",
   "metadata": {},
   "source": [
    "Banyaknya outliers pada data akan mempengaruhi hasil analisis dan *modelling* yang dilakukan. Ada beberapa hal yang harus dipertimbangkan sebelum memutuskan treatment yang sesuai dengan data, di antaranya adalah dengan mempertimbangkan sisi domain knowledge."
   ]
  },
  {
   "cell_type": "code",
   "execution_count": 30,
   "metadata": {},
   "outputs": [
    {
     "data": {
      "text/html": [
       "<div>\n",
       "<style scoped>\n",
       "    .dataframe tbody tr th:only-of-type {\n",
       "        vertical-align: middle;\n",
       "    }\n",
       "\n",
       "    .dataframe tbody tr th {\n",
       "        vertical-align: top;\n",
       "    }\n",
       "\n",
       "    .dataframe thead th {\n",
       "        text-align: right;\n",
       "    }\n",
       "</style>\n",
       "<table border=\"1\" class=\"dataframe\">\n",
       "  <thead>\n",
       "    <tr style=\"text-align: right;\">\n",
       "      <th></th>\n",
       "      <th>humidity</th>\n",
       "      <th>atemp</th>\n",
       "      <th>hour</th>\n",
       "      <th>count</th>\n",
       "    </tr>\n",
       "  </thead>\n",
       "  <tbody>\n",
       "    <tr>\n",
       "      <th>count</th>\n",
       "      <td>12165.000000</td>\n",
       "      <td>12165.000000</td>\n",
       "      <td>12165.000000</td>\n",
       "      <td>12165.000000</td>\n",
       "    </tr>\n",
       "    <tr>\n",
       "      <th>mean</th>\n",
       "      <td>0.625451</td>\n",
       "      <td>0.476996</td>\n",
       "      <td>11.519770</td>\n",
       "      <td>189.271023</td>\n",
       "    </tr>\n",
       "    <tr>\n",
       "      <th>std</th>\n",
       "      <td>0.192102</td>\n",
       "      <td>0.171857</td>\n",
       "      <td>6.931872</td>\n",
       "      <td>181.223903</td>\n",
       "    </tr>\n",
       "    <tr>\n",
       "      <th>min</th>\n",
       "      <td>0.000000</td>\n",
       "      <td>0.000000</td>\n",
       "      <td>0.000000</td>\n",
       "      <td>1.000000</td>\n",
       "    </tr>\n",
       "    <tr>\n",
       "      <th>25%</th>\n",
       "      <td>0.470000</td>\n",
       "      <td>0.333300</td>\n",
       "      <td>6.000000</td>\n",
       "      <td>40.000000</td>\n",
       "    </tr>\n",
       "    <tr>\n",
       "      <th>50%</th>\n",
       "      <td>0.620000</td>\n",
       "      <td>0.484800</td>\n",
       "      <td>12.000000</td>\n",
       "      <td>142.000000</td>\n",
       "    </tr>\n",
       "    <tr>\n",
       "      <th>75%</th>\n",
       "      <td>0.780000</td>\n",
       "      <td>0.621200</td>\n",
       "      <td>18.000000</td>\n",
       "      <td>282.000000</td>\n",
       "    </tr>\n",
       "    <tr>\n",
       "      <th>max</th>\n",
       "      <td>1.000000</td>\n",
       "      <td>1.000000</td>\n",
       "      <td>23.000000</td>\n",
       "      <td>970.000000</td>\n",
       "    </tr>\n",
       "  </tbody>\n",
       "</table>\n",
       "</div>"
      ],
      "text/plain": [
       "           humidity         atemp          hour         count\n",
       "count  12165.000000  12165.000000  12165.000000  12165.000000\n",
       "mean       0.625451      0.476996     11.519770    189.271023\n",
       "std        0.192102      0.171857      6.931872    181.223903\n",
       "min        0.000000      0.000000      0.000000      1.000000\n",
       "25%        0.470000      0.333300      6.000000     40.000000\n",
       "50%        0.620000      0.484800     12.000000    142.000000\n",
       "75%        0.780000      0.621200     18.000000    282.000000\n",
       "max        1.000000      1.000000     23.000000    970.000000"
      ]
     },
     "execution_count": 30,
     "metadata": {},
     "output_type": "execute_result"
    }
   ],
   "source": [
    "# Mengecek informasi statistik deskriptif data numerik\n",
    "df_model.describe().select_dtypes(['float','int'])"
   ]
  },
  {
   "cell_type": "code",
   "execution_count": 44,
   "metadata": {},
   "outputs": [
    {
     "data": {
      "image/png": "[encoded data removed]",
      "text/plain": [
       "<Figure size 2000x1000 with 4 Axes>"
      ]
     },
     "metadata": {},
     "output_type": "display_data"
    }
   ],
   "source": [
    "# Plot boxplot untuk mengecek outliers\n",
    "fig, axes = plt.subplots(2,2, figsize=(20,10))\n",
    "axes[0][0].set_title('Boxplot count')\n",
    "sns.boxplot(data=df_model['count'], ax=axes[0][0])\n",
    "\n",
    "axes[0][1].set_title('Boxplot atemp')\n",
    "sns.boxplot(df_model['atemp'], ax=axes[0][1])\n",
    "\n",
    "axes[1][0].set_title('Boxplot humidity')\n",
    "sns.boxplot(df_model['humidity'], ax=axes[1][0])\n",
    "\n",
    "axes[1][1].set_title('Boxplot hour')\n",
    "sns.boxplot(df_model['hour'], ax=axes[1][1])\n",
    "\n",
    "plt.show()"
   ]
  },
  {
   "attachments": {},
   "cell_type": "markdown",
   "metadata": {},
   "source": [
    "Dari grafik boxplot di atas, terlihat cukup banyak outliers pada feature `count` dan ada sedikit pada feature `humidity`. Oleh karena itu kita akan menelisik lebih jauh terhadap data outliers tersebut. Untuk membuat dataset yang lebih bersih dari outliers, saya akan melakukan beberapa rekayasa data pada feature tersebut dengan mempertimbangkan kombinasi antara hasil dari metode IQR dan juga domain knowledge."
   ]
  },
  {
   "attachments": {},
   "cell_type": "markdown",
   "metadata": {},
   "source": [
    "**Humidity**"
   ]
  },
  {
   "cell_type": "code",
   "execution_count": 45,
   "metadata": {},
   "outputs": [
    {
     "data": {
      "text/html": [
       "<div>\n",
       "<style scoped>\n",
       "    .dataframe tbody tr th:only-of-type {\n",
       "        vertical-align: middle;\n",
       "    }\n",
       "\n",
       "    .dataframe tbody tr th {\n",
       "        vertical-align: top;\n",
       "    }\n",
       "\n",
       "    .dataframe thead th {\n",
       "        text-align: right;\n",
       "    }\n",
       "</style>\n",
       "<table border=\"1\" class=\"dataframe\">\n",
       "  <thead>\n",
       "    <tr style=\"text-align: right;\">\n",
       "      <th></th>\n",
       "      <th>humidity</th>\n",
       "      <th>weather</th>\n",
       "      <th>holiday</th>\n",
       "      <th>season</th>\n",
       "      <th>atemp</th>\n",
       "      <th>hour</th>\n",
       "      <th>count</th>\n",
       "      <th>year</th>\n",
       "      <th>month</th>\n",
       "      <th>day</th>\n",
       "    </tr>\n",
       "  </thead>\n",
       "  <tbody>\n",
       "    <tr>\n",
       "      <th>1094</th>\n",
       "      <td>0.0</td>\n",
       "      <td>Light snow/Light rain</td>\n",
       "      <td>0</td>\n",
       "      <td>winter</td>\n",
       "      <td>0.3182</td>\n",
       "      <td>0</td>\n",
       "      <td>3</td>\n",
       "      <td>2011</td>\n",
       "      <td>3</td>\n",
       "      <td>Thursday</td>\n",
       "    </tr>\n",
       "    <tr>\n",
       "      <th>1095</th>\n",
       "      <td>0.0</td>\n",
       "      <td>Light snow/Light rain</td>\n",
       "      <td>0</td>\n",
       "      <td>winter</td>\n",
       "      <td>0.3182</td>\n",
       "      <td>1</td>\n",
       "      <td>2</td>\n",
       "      <td>2011</td>\n",
       "      <td>3</td>\n",
       "      <td>Thursday</td>\n",
       "    </tr>\n",
       "    <tr>\n",
       "      <th>1096</th>\n",
       "      <td>0.0</td>\n",
       "      <td>Light snow/Light rain</td>\n",
       "      <td>0</td>\n",
       "      <td>winter</td>\n",
       "      <td>0.3333</td>\n",
       "      <td>6</td>\n",
       "      <td>12</td>\n",
       "      <td>2011</td>\n",
       "      <td>3</td>\n",
       "      <td>Thursday</td>\n",
       "    </tr>\n",
       "    <tr>\n",
       "      <th>1097</th>\n",
       "      <td>0.0</td>\n",
       "      <td>Light snow/Light rain</td>\n",
       "      <td>0</td>\n",
       "      <td>winter</td>\n",
       "      <td>0.3939</td>\n",
       "      <td>7</td>\n",
       "      <td>37</td>\n",
       "      <td>2011</td>\n",
       "      <td>3</td>\n",
       "      <td>Thursday</td>\n",
       "    </tr>\n",
       "    <tr>\n",
       "      <th>1098</th>\n",
       "      <td>0.0</td>\n",
       "      <td>Light snow/Light rain</td>\n",
       "      <td>0</td>\n",
       "      <td>winter</td>\n",
       "      <td>0.3939</td>\n",
       "      <td>8</td>\n",
       "      <td>44</td>\n",
       "      <td>2011</td>\n",
       "      <td>3</td>\n",
       "      <td>Thursday</td>\n",
       "    </tr>\n",
       "    <tr>\n",
       "      <th>1099</th>\n",
       "      <td>0.0</td>\n",
       "      <td>Light snow/Light rain</td>\n",
       "      <td>0</td>\n",
       "      <td>winter</td>\n",
       "      <td>0.4091</td>\n",
       "      <td>9</td>\n",
       "      <td>24</td>\n",
       "      <td>2011</td>\n",
       "      <td>3</td>\n",
       "      <td>Thursday</td>\n",
       "    </tr>\n",
       "    <tr>\n",
       "      <th>1100</th>\n",
       "      <td>0.0</td>\n",
       "      <td>Light snow/Light rain</td>\n",
       "      <td>0</td>\n",
       "      <td>winter</td>\n",
       "      <td>0.4091</td>\n",
       "      <td>11</td>\n",
       "      <td>11</td>\n",
       "      <td>2011</td>\n",
       "      <td>3</td>\n",
       "      <td>Thursday</td>\n",
       "    </tr>\n",
       "    <tr>\n",
       "      <th>1101</th>\n",
       "      <td>0.0</td>\n",
       "      <td>Light snow/Light rain</td>\n",
       "      <td>0</td>\n",
       "      <td>winter</td>\n",
       "      <td>0.4242</td>\n",
       "      <td>12</td>\n",
       "      <td>34</td>\n",
       "      <td>2011</td>\n",
       "      <td>3</td>\n",
       "      <td>Thursday</td>\n",
       "    </tr>\n",
       "    <tr>\n",
       "      <th>1102</th>\n",
       "      <td>0.0</td>\n",
       "      <td>Light snow/Light rain</td>\n",
       "      <td>0</td>\n",
       "      <td>winter</td>\n",
       "      <td>0.4242</td>\n",
       "      <td>13</td>\n",
       "      <td>12</td>\n",
       "      <td>2011</td>\n",
       "      <td>3</td>\n",
       "      <td>Thursday</td>\n",
       "    </tr>\n",
       "    <tr>\n",
       "      <th>1103</th>\n",
       "      <td>0.0</td>\n",
       "      <td>Light snow/Light rain</td>\n",
       "      <td>0</td>\n",
       "      <td>winter</td>\n",
       "      <td>0.4394</td>\n",
       "      <td>15</td>\n",
       "      <td>14</td>\n",
       "      <td>2011</td>\n",
       "      <td>3</td>\n",
       "      <td>Thursday</td>\n",
       "    </tr>\n",
       "    <tr>\n",
       "      <th>1104</th>\n",
       "      <td>0.0</td>\n",
       "      <td>Light snow/Light rain</td>\n",
       "      <td>0</td>\n",
       "      <td>winter</td>\n",
       "      <td>0.4242</td>\n",
       "      <td>16</td>\n",
       "      <td>21</td>\n",
       "      <td>2011</td>\n",
       "      <td>3</td>\n",
       "      <td>Thursday</td>\n",
       "    </tr>\n",
       "    <tr>\n",
       "      <th>1105</th>\n",
       "      <td>0.0</td>\n",
       "      <td>cloudy</td>\n",
       "      <td>0</td>\n",
       "      <td>winter</td>\n",
       "      <td>0.4394</td>\n",
       "      <td>17</td>\n",
       "      <td>111</td>\n",
       "      <td>2011</td>\n",
       "      <td>3</td>\n",
       "      <td>Thursday</td>\n",
       "    </tr>\n",
       "    <tr>\n",
       "      <th>1106</th>\n",
       "      <td>0.0</td>\n",
       "      <td>cloudy</td>\n",
       "      <td>0</td>\n",
       "      <td>winter</td>\n",
       "      <td>0.3333</td>\n",
       "      <td>22</td>\n",
       "      <td>34</td>\n",
       "      <td>2011</td>\n",
       "      <td>3</td>\n",
       "      <td>Thursday</td>\n",
       "    </tr>\n",
       "    <tr>\n",
       "      <th>1107</th>\n",
       "      <td>0.0</td>\n",
       "      <td>Light snow/Light rain</td>\n",
       "      <td>0</td>\n",
       "      <td>winter</td>\n",
       "      <td>0.3485</td>\n",
       "      <td>23</td>\n",
       "      <td>27</td>\n",
       "      <td>2011</td>\n",
       "      <td>3</td>\n",
       "      <td>Thursday</td>\n",
       "    </tr>\n",
       "  </tbody>\n",
       "</table>\n",
       "</div>"
      ],
      "text/plain": [
       "      humidity                weather holiday  season   atemp  hour  count  \\\n",
       "1094       0.0  Light snow/Light rain       0  winter  0.3182     0      3   \n",
       "1095       0.0  Light snow/Light rain       0  winter  0.3182     1      2   \n",
       "1096       0.0  Light snow/Light rain       0  winter  0.3333     6     12   \n",
       "1097       0.0  Light snow/Light rain       0  winter  0.3939     7     37   \n",
       "1098       0.0  Light snow/Light rain       0  winter  0.3939     8     44   \n",
       "1099       0.0  Light snow/Light rain       0  winter  0.4091     9     24   \n",
       "1100       0.0  Light snow/Light rain       0  winter  0.4091    11     11   \n",
       "1101       0.0  Light snow/Light rain       0  winter  0.4242    12     34   \n",
       "1102       0.0  Light snow/Light rain       0  winter  0.4242    13     12   \n",
       "1103       0.0  Light snow/Light rain       0  winter  0.4394    15     14   \n",
       "1104       0.0  Light snow/Light rain       0  winter  0.4242    16     21   \n",
       "1105       0.0                 cloudy       0  winter  0.4394    17    111   \n",
       "1106       0.0                 cloudy       0  winter  0.3333    22     34   \n",
       "1107       0.0  Light snow/Light rain       0  winter  0.3485    23     27   \n",
       "\n",
       "      year month       day  \n",
       "1094  2011     3  Thursday  \n",
       "1095  2011     3  Thursday  \n",
       "1096  2011     3  Thursday  \n",
       "1097  2011     3  Thursday  \n",
       "1098  2011     3  Thursday  \n",
       "1099  2011     3  Thursday  \n",
       "1100  2011     3  Thursday  \n",
       "1101  2011     3  Thursday  \n",
       "1102  2011     3  Thursday  \n",
       "1103  2011     3  Thursday  \n",
       "1104  2011     3  Thursday  \n",
       "1105  2011     3  Thursday  \n",
       "1106  2011     3  Thursday  \n",
       "1107  2011     3  Thursday  "
      ]
     },
     "execution_count": 45,
     "metadata": {},
     "output_type": "execute_result"
    }
   ],
   "source": [
    "df_model[df_model['humidity']==0]"
   ]
  },
  {
   "attachments": {},
   "cell_type": "markdown",
   "metadata": {},
   "source": [
    "Dari informasi di atas diketahui terdapat 14 baris data yang memiliki nilai humidity 0. Namun berdasarkan informasi yang dilansir oleh [WGNTV](https://wgntv.com/weather/can-the-relative-humidity-ever-be-zero-percent/#:~:text=The%20concept%20of%20zero%20percent,if%20only%20in%20trace%20amounts), diketahui bahwa merupakan hal yang tidak mungkin jika nilai humidity adalah 0. Oleh karena itu kita akan drop data humidity yang bernilai 0."
   ]
  },
  {
   "cell_type": "code",
   "execution_count": 46,
   "metadata": {},
   "outputs": [],
   "source": [
    "# Drop feature 'humidity' yang memiliki nilai 0\n",
    "df_model = df_model[df_model['humidity']!=0]"
   ]
  },
  {
   "attachments": {},
   "cell_type": "markdown",
   "metadata": {},
   "source": [
    "**Count**"
   ]
  },
  {
   "cell_type": "code",
   "execution_count": 47,
   "metadata": {},
   "outputs": [
    {
     "name": "stdout",
     "output_type": "stream",
     "text": [
      "IQR: 242.0\n",
      "limit_bawah: -323.0\n",
      "limit_atas: 645.0\n"
     ]
    }
   ],
   "source": [
    "# Mengecek outliers pada feature 'count'\n",
    "\n",
    "q1 = df_model['count'].quantile(0.25)\n",
    "q3 = df_model['count'].quantile(0.75)\n",
    "iqr = q3 - q1\n",
    "limit = iqr*1.5\n",
    "print(f'IQR: {iqr}')\n",
    "\n",
    "limit_bawah = q1 - limit\n",
    "limit_atas = q3 + limit\n",
    "print(f'limit_bawah: {limit_bawah}')\n",
    "print(f'limit_atas: {limit_atas}')        "
   ]
  },
  {
   "cell_type": "code",
   "execution_count": 48,
   "metadata": {},
   "outputs": [
    {
     "data": {
      "text/plain": [
       "count    12151.000000\n",
       "mean       189.457329\n",
       "std        181.242898\n",
       "min          1.000000\n",
       "25%         40.000000\n",
       "50%        142.000000\n",
       "75%        282.000000\n",
       "max        970.000000\n",
       "Name: count, dtype: float64"
      ]
     },
     "execution_count": 48,
     "metadata": {},
     "output_type": "execute_result"
    }
   ],
   "source": [
    "# Cek deskriptif statistik kolom count\n",
    "df_model['count'].describe()"
   ]
  },
  {
   "cell_type": "code",
   "execution_count": 49,
   "metadata": {},
   "outputs": [
    {
     "data": {
      "text/html": [
       "<div>\n",
       "<style scoped>\n",
       "    .dataframe tbody tr th:only-of-type {\n",
       "        vertical-align: middle;\n",
       "    }\n",
       "\n",
       "    .dataframe tbody tr th {\n",
       "        vertical-align: top;\n",
       "    }\n",
       "\n",
       "    .dataframe thead th {\n",
       "        text-align: right;\n",
       "    }\n",
       "</style>\n",
       "<table border=\"1\" class=\"dataframe\">\n",
       "  <thead>\n",
       "    <tr style=\"text-align: right;\">\n",
       "      <th></th>\n",
       "      <th>humidity</th>\n",
       "      <th>weather</th>\n",
       "      <th>holiday</th>\n",
       "      <th>season</th>\n",
       "      <th>atemp</th>\n",
       "      <th>hour</th>\n",
       "      <th>count</th>\n",
       "      <th>year</th>\n",
       "      <th>month</th>\n",
       "      <th>day</th>\n",
       "    </tr>\n",
       "  </thead>\n",
       "  <tbody>\n",
       "    <tr>\n",
       "      <th>3942</th>\n",
       "      <td>0.30</td>\n",
       "      <td>clear</td>\n",
       "      <td>0</td>\n",
       "      <td>summer</td>\n",
       "      <td>0.6515</td>\n",
       "      <td>14</td>\n",
       "      <td>651</td>\n",
       "      <td>2011</td>\n",
       "      <td>8</td>\n",
       "      <td>Tuesday</td>\n",
       "    </tr>\n",
       "    <tr>\n",
       "      <th>7292</th>\n",
       "      <td>0.43</td>\n",
       "      <td>cloudy</td>\n",
       "      <td>0</td>\n",
       "      <td>winter</td>\n",
       "      <td>0.6212</td>\n",
       "      <td>18</td>\n",
       "      <td>712</td>\n",
       "      <td>2012</td>\n",
       "      <td>3</td>\n",
       "      <td>Monday</td>\n",
       "    </tr>\n",
       "    <tr>\n",
       "      <th>7309</th>\n",
       "      <td>0.37</td>\n",
       "      <td>clear</td>\n",
       "      <td>0</td>\n",
       "      <td>winter</td>\n",
       "      <td>0.6364</td>\n",
       "      <td>17</td>\n",
       "      <td>676</td>\n",
       "      <td>2012</td>\n",
       "      <td>3</td>\n",
       "      <td>Tuesday</td>\n",
       "    </tr>\n",
       "    <tr>\n",
       "      <th>7310</th>\n",
       "      <td>0.34</td>\n",
       "      <td>clear</td>\n",
       "      <td>0</td>\n",
       "      <td>winter</td>\n",
       "      <td>0.6364</td>\n",
       "      <td>18</td>\n",
       "      <td>734</td>\n",
       "      <td>2012</td>\n",
       "      <td>3</td>\n",
       "      <td>Tuesday</td>\n",
       "    </tr>\n",
       "    <tr>\n",
       "      <th>7325</th>\n",
       "      <td>0.28</td>\n",
       "      <td>clear</td>\n",
       "      <td>0</td>\n",
       "      <td>winter</td>\n",
       "      <td>0.6364</td>\n",
       "      <td>17</td>\n",
       "      <td>782</td>\n",
       "      <td>2012</td>\n",
       "      <td>3</td>\n",
       "      <td>Wednesday</td>\n",
       "    </tr>\n",
       "    <tr>\n",
       "      <th>...</th>\n",
       "      <td>...</td>\n",
       "      <td>...</td>\n",
       "      <td>...</td>\n",
       "      <td>...</td>\n",
       "      <td>...</td>\n",
       "      <td>...</td>\n",
       "      <td>...</td>\n",
       "      <td>...</td>\n",
       "      <td>...</td>\n",
       "      <td>...</td>\n",
       "    </tr>\n",
       "    <tr>\n",
       "      <th>11748</th>\n",
       "      <td>0.51</td>\n",
       "      <td>clear</td>\n",
       "      <td>0</td>\n",
       "      <td>fall</td>\n",
       "      <td>0.2121</td>\n",
       "      <td>8</td>\n",
       "      <td>659</td>\n",
       "      <td>2012</td>\n",
       "      <td>12</td>\n",
       "      <td>Thursday</td>\n",
       "    </tr>\n",
       "    <tr>\n",
       "      <th>11818</th>\n",
       "      <td>0.61</td>\n",
       "      <td>cloudy</td>\n",
       "      <td>0</td>\n",
       "      <td>fall</td>\n",
       "      <td>0.3030</td>\n",
       "      <td>8</td>\n",
       "      <td>724</td>\n",
       "      <td>2012</td>\n",
       "      <td>12</td>\n",
       "      <td>Tuesday</td>\n",
       "    </tr>\n",
       "    <tr>\n",
       "      <th>11832</th>\n",
       "      <td>0.65</td>\n",
       "      <td>cloudy</td>\n",
       "      <td>0</td>\n",
       "      <td>fall</td>\n",
       "      <td>0.2576</td>\n",
       "      <td>8</td>\n",
       "      <td>688</td>\n",
       "      <td>2012</td>\n",
       "      <td>12</td>\n",
       "      <td>Wednesday</td>\n",
       "    </tr>\n",
       "    <tr>\n",
       "      <th>11853</th>\n",
       "      <td>0.60</td>\n",
       "      <td>clear</td>\n",
       "      <td>0</td>\n",
       "      <td>fall</td>\n",
       "      <td>0.2273</td>\n",
       "      <td>8</td>\n",
       "      <td>679</td>\n",
       "      <td>2012</td>\n",
       "      <td>12</td>\n",
       "      <td>Thursday</td>\n",
       "    </tr>\n",
       "    <tr>\n",
       "      <th>11932</th>\n",
       "      <td>0.94</td>\n",
       "      <td>clear</td>\n",
       "      <td>0</td>\n",
       "      <td>fall</td>\n",
       "      <td>0.3939</td>\n",
       "      <td>8</td>\n",
       "      <td>662</td>\n",
       "      <td>2012</td>\n",
       "      <td>12</td>\n",
       "      <td>Tuesday</td>\n",
       "    </tr>\n",
       "  </tbody>\n",
       "</table>\n",
       "<p>338 rows × 10 columns</p>\n",
       "</div>"
      ],
      "text/plain": [
       "       humidity weather holiday  season   atemp  hour  count  year month  \\\n",
       "3942       0.30   clear       0  summer  0.6515    14    651  2011     8   \n",
       "7292       0.43  cloudy       0  winter  0.6212    18    712  2012     3   \n",
       "7309       0.37   clear       0  winter  0.6364    17    676  2012     3   \n",
       "7310       0.34   clear       0  winter  0.6364    18    734  2012     3   \n",
       "7325       0.28   clear       0  winter  0.6364    17    782  2012     3   \n",
       "...         ...     ...     ...     ...     ...   ...    ...   ...   ...   \n",
       "11748      0.51   clear       0    fall  0.2121     8    659  2012    12   \n",
       "11818      0.61  cloudy       0    fall  0.3030     8    724  2012    12   \n",
       "11832      0.65  cloudy       0    fall  0.2576     8    688  2012    12   \n",
       "11853      0.60   clear       0    fall  0.2273     8    679  2012    12   \n",
       "11932      0.94   clear       0    fall  0.3939     8    662  2012    12   \n",
       "\n",
       "             day  \n",
       "3942     Tuesday  \n",
       "7292      Monday  \n",
       "7309     Tuesday  \n",
       "7310     Tuesday  \n",
       "7325   Wednesday  \n",
       "...          ...  \n",
       "11748   Thursday  \n",
       "11818    Tuesday  \n",
       "11832  Wednesday  \n",
       "11853   Thursday  \n",
       "11932    Tuesday  \n",
       "\n",
       "[338 rows x 10 columns]"
      ]
     },
     "execution_count": 49,
     "metadata": {},
     "output_type": "execute_result"
    }
   ],
   "source": [
    "# Cek count > 645\n",
    "df_model[df_model['count']>645]"
   ]
  },
  {
   "attachments": {},
   "cell_type": "markdown",
   "metadata": {},
   "source": [
    "Dari informasi di atas diketahui bahwa 75% data pada kolom `count` memiliki jumlah kurang dari 282, sedangkan jumlah maksimalnya adalah 970. Tentu terdapat skewness pada distribusinya, yaitu tail yang memanjang di sebelah kanan (positive skewness). Terdapat 338 data yang jumlah `count` nya lebih besar dari 645 (batas atas berdasarkan metode IQR). Data outliers tersebut akan tetap kita gunakan untuk prediksi nantinya, oleh karena itu tidak akan kita drop.\n",
    "\n",
    "Catatan: telah dilakukan percobaan prediksi dengan menggunakan dataset yang tidak memiliki outliers pada kolom `count`, namun hasil prediksi tersebut lebih buruk dibandingkan ketika data outliers tersebut dipertahankan."
   ]
  },
  {
   "attachments": {},
   "cell_type": "markdown",
   "metadata": {},
   "source": [
    "**Clean Dataset**"
   ]
  },
  {
   "cell_type": "code",
   "execution_count": 50,
   "metadata": {},
   "outputs": [
    {
     "data": {
      "text/html": [
       "<div>\n",
       "<style scoped>\n",
       "    .dataframe tbody tr th:only-of-type {\n",
       "        vertical-align: middle;\n",
       "    }\n",
       "\n",
       "    .dataframe tbody tr th {\n",
       "        vertical-align: top;\n",
       "    }\n",
       "\n",
       "    .dataframe thead th {\n",
       "        text-align: right;\n",
       "    }\n",
       "</style>\n",
       "<table border=\"1\" class=\"dataframe\">\n",
       "  <thead>\n",
       "    <tr style=\"text-align: right;\">\n",
       "      <th></th>\n",
       "      <th>humidity</th>\n",
       "      <th>weather</th>\n",
       "      <th>holiday</th>\n",
       "      <th>season</th>\n",
       "      <th>atemp</th>\n",
       "      <th>hour</th>\n",
       "      <th>count</th>\n",
       "      <th>year</th>\n",
       "      <th>month</th>\n",
       "      <th>day</th>\n",
       "    </tr>\n",
       "  </thead>\n",
       "  <tbody>\n",
       "    <tr>\n",
       "      <th>0</th>\n",
       "      <td>0.81</td>\n",
       "      <td>clear</td>\n",
       "      <td>0</td>\n",
       "      <td>winter</td>\n",
       "      <td>0.2879</td>\n",
       "      <td>0</td>\n",
       "      <td>16</td>\n",
       "      <td>2011</td>\n",
       "      <td>1</td>\n",
       "      <td>Saturday</td>\n",
       "    </tr>\n",
       "    <tr>\n",
       "      <th>1</th>\n",
       "      <td>0.80</td>\n",
       "      <td>clear</td>\n",
       "      <td>0</td>\n",
       "      <td>winter</td>\n",
       "      <td>0.2727</td>\n",
       "      <td>1</td>\n",
       "      <td>40</td>\n",
       "      <td>2011</td>\n",
       "      <td>1</td>\n",
       "      <td>Saturday</td>\n",
       "    </tr>\n",
       "  </tbody>\n",
       "</table>\n",
       "</div>"
      ],
      "text/plain": [
       "   humidity weather holiday  season   atemp  hour  count  year month       day\n",
       "0      0.81   clear       0  winter  0.2879     0     16  2011     1  Saturday\n",
       "1      0.80   clear       0  winter  0.2727     1     40  2011     1  Saturday"
      ]
     },
     "execution_count": 50,
     "metadata": {},
     "output_type": "execute_result"
    }
   ],
   "source": [
    "df_model.head(2)"
   ]
  },
  {
   "cell_type": "code",
   "execution_count": 51,
   "metadata": {},
   "outputs": [
    {
     "name": "stdout",
     "output_type": "stream",
     "text": [
      "<class 'pandas.core.frame.DataFrame'>\n",
      "Int64Index: 12151 entries, 0 to 12164\n",
      "Data columns (total 10 columns):\n",
      " #   Column    Non-Null Count  Dtype   \n",
      "---  ------    --------------  -----   \n",
      " 0   humidity  12151 non-null  float64 \n",
      " 1   weather   12151 non-null  object  \n",
      " 2   holiday   12151 non-null  category\n",
      " 3   season    12151 non-null  object  \n",
      " 4   atemp     12151 non-null  float64 \n",
      " 5   hour      12151 non-null  int64   \n",
      " 6   count     12151 non-null  int64   \n",
      " 7   year      12151 non-null  category\n",
      " 8   month     12151 non-null  category\n",
      " 9   day       12151 non-null  object  \n",
      "dtypes: category(3), float64(2), int64(2), object(3)\n",
      "memory usage: 795.7+ KB\n"
     ]
    }
   ],
   "source": [
    "df_model.info()"
   ]
  },
  {
   "attachments": {},
   "cell_type": "markdown",
   "metadata": {},
   "source": [
    "Setelah melalui tahap preprocessing, tersisa 12.151 baris data yang akan digunakan untuk pemodelan. Terdapat 14 baris data yang sudah tereliminasi sesuai dengan asumsi dan argumen yang disampaikan di proses-proses sebelumnya."
   ]
  },
  {
   "attachments": {},
   "cell_type": "markdown",
   "metadata": {},
   "source": [
    "### **Modelling**"
   ]
  },
  {
   "cell_type": "code",
   "execution_count": 57,
   "metadata": {},
   "outputs": [],
   "source": [
    "from sklearn.model_selection import train_test_split, cross_val_score, GridSearchCV, KFold, cross_validate\n",
    "\n",
    "import category_encoders as ce\n",
    "from sklearn.preprocessing import OneHotEncoder\n",
    "from sklearn.compose import ColumnTransformer\n",
    "from sklearn.pipeline import Pipeline\n",
    "\n",
    "from sklearn.linear_model import LinearRegression\n",
    "from sklearn.neighbors import KNeighborsRegressor\n",
    "from sklearn.tree import DecisionTreeRegressor\n",
    "from sklearn.ensemble import RandomForestRegressor, GradientBoostingRegressor\n",
    "from xgboost.sklearn import XGBRegressor\n",
    "from sklearn.compose import TransformedTargetRegressor\n",
    "\n",
    "from sklearn.metrics import r2_score, mean_absolute_error, mean_absolute_percentage_error"
   ]
  },
  {
   "cell_type": "code",
   "execution_count": 53,
   "metadata": {},
   "outputs": [
    {
     "data": {
      "text/html": [
       "<div>\n",
       "<style scoped>\n",
       "    .dataframe tbody tr th:only-of-type {\n",
       "        vertical-align: middle;\n",
       "    }\n",
       "\n",
       "    .dataframe tbody tr th {\n",
       "        vertical-align: top;\n",
       "    }\n",
       "\n",
       "    .dataframe thead th {\n",
       "        text-align: right;\n",
       "    }\n",
       "</style>\n",
       "<table border=\"1\" class=\"dataframe\">\n",
       "  <thead>\n",
       "    <tr style=\"text-align: right;\">\n",
       "      <th></th>\n",
       "      <th>humidity</th>\n",
       "      <th>weather</th>\n",
       "      <th>holiday</th>\n",
       "      <th>season</th>\n",
       "      <th>atemp</th>\n",
       "      <th>hour</th>\n",
       "      <th>count</th>\n",
       "      <th>year</th>\n",
       "      <th>month</th>\n",
       "      <th>day</th>\n",
       "    </tr>\n",
       "  </thead>\n",
       "  <tbody>\n",
       "    <tr>\n",
       "      <th>0</th>\n",
       "      <td>0.81</td>\n",
       "      <td>clear</td>\n",
       "      <td>0</td>\n",
       "      <td>winter</td>\n",
       "      <td>0.2879</td>\n",
       "      <td>0</td>\n",
       "      <td>16</td>\n",
       "      <td>2011</td>\n",
       "      <td>1</td>\n",
       "      <td>Saturday</td>\n",
       "    </tr>\n",
       "    <tr>\n",
       "      <th>1</th>\n",
       "      <td>0.80</td>\n",
       "      <td>clear</td>\n",
       "      <td>0</td>\n",
       "      <td>winter</td>\n",
       "      <td>0.2727</td>\n",
       "      <td>1</td>\n",
       "      <td>40</td>\n",
       "      <td>2011</td>\n",
       "      <td>1</td>\n",
       "      <td>Saturday</td>\n",
       "    </tr>\n",
       "    <tr>\n",
       "      <th>2</th>\n",
       "      <td>0.80</td>\n",
       "      <td>clear</td>\n",
       "      <td>0</td>\n",
       "      <td>winter</td>\n",
       "      <td>0.2727</td>\n",
       "      <td>2</td>\n",
       "      <td>32</td>\n",
       "      <td>2011</td>\n",
       "      <td>1</td>\n",
       "      <td>Saturday</td>\n",
       "    </tr>\n",
       "    <tr>\n",
       "      <th>3</th>\n",
       "      <td>0.75</td>\n",
       "      <td>clear</td>\n",
       "      <td>0</td>\n",
       "      <td>winter</td>\n",
       "      <td>0.2879</td>\n",
       "      <td>3</td>\n",
       "      <td>13</td>\n",
       "      <td>2011</td>\n",
       "      <td>1</td>\n",
       "      <td>Saturday</td>\n",
       "    </tr>\n",
       "    <tr>\n",
       "      <th>4</th>\n",
       "      <td>0.75</td>\n",
       "      <td>clear</td>\n",
       "      <td>0</td>\n",
       "      <td>winter</td>\n",
       "      <td>0.2879</td>\n",
       "      <td>4</td>\n",
       "      <td>1</td>\n",
       "      <td>2011</td>\n",
       "      <td>1</td>\n",
       "      <td>Saturday</td>\n",
       "    </tr>\n",
       "  </tbody>\n",
       "</table>\n",
       "</div>"
      ],
      "text/plain": [
       "   humidity weather holiday  season   atemp  hour  count  year month       day\n",
       "0      0.81   clear       0  winter  0.2879     0     16  2011     1  Saturday\n",
       "1      0.80   clear       0  winter  0.2727     1     40  2011     1  Saturday\n",
       "2      0.80   clear       0  winter  0.2727     2     32  2011     1  Saturday\n",
       "3      0.75   clear       0  winter  0.2879     3     13  2011     1  Saturday\n",
       "4      0.75   clear       0  winter  0.2879     4      1  2011     1  Saturday"
      ]
     },
     "execution_count": 53,
     "metadata": {},
     "output_type": "execute_result"
    }
   ],
   "source": [
    "df_model.head()"
   ]
  },
  {
   "attachments": {},
   "cell_type": "markdown",
   "metadata": {},
   "source": [
    "**Encoding**"
   ]
  },
  {
   "attachments": {},
   "cell_type": "markdown",
   "metadata": {},
   "source": [
    "Agar kita dapat menggunakan semua feature yang dipilih, maka feature-feature kategorikal perlu diubah menjadi feature numerikal. Kita dapat menggunakan `ColumnTransformer` untuk dapat mengubah tipe datanya, yang mana nanti dapat diaplikasikan pada pipeline model."
   ]
  },
  {
   "cell_type": "code",
   "execution_count": 60,
   "metadata": {},
   "outputs": [],
   "source": [
    "# Mengubah fitur kategorikal menjadi numerikal\n",
    "\n",
    "transformer = ColumnTransformer([\n",
    "    ('One Hot', OneHotEncoder(drop='first'), ['weather', 'season', 'year']),\n",
    "    ('Binary', ce.BinaryEncoder(), ['day'])\n",
    "], remainder='passthrough')"
   ]
  },
  {
   "attachments": {},
   "cell_type": "markdown",
   "metadata": {},
   "source": [
    "**Data Splitting (Feature dan Target)**"
   ]
  },
  {
   "cell_type": "code",
   "execution_count": 54,
   "metadata": {},
   "outputs": [],
   "source": [
    "# Memisahkan data independen variabel dengan target\n",
    "\n",
    "X = df_model.drop(['count'], axis=1)\n",
    "y = df_model['count']"
   ]
  },
  {
   "attachments": {},
   "cell_type": "markdown",
   "metadata": {},
   "source": [
    "**Train and Test Splitting**"
   ]
  },
  {
   "cell_type": "code",
   "execution_count": 56,
   "metadata": {},
   "outputs": [],
   "source": [
    "# Splitting data training dan test dengan proporsi 70:30\n",
    "\n",
    "X_train, X_test, y_train, y_test = train_test_split(\n",
    "    X,\n",
    "    y,\n",
    "    test_size=0.3,\n",
    "    random_state=42\n",
    ")"
   ]
  },
  {
   "attachments": {},
   "cell_type": "markdown",
   "metadata": {},
   "source": [
    "**Choosing Benchmark Model**"
   ]
  },
  {
   "cell_type": "code",
   "execution_count": 58,
   "metadata": {},
   "outputs": [],
   "source": [
    "# Menentukan Algoritma yang akan digunakan\n",
    "lr = LinearRegression()\n",
    "knn = KNeighborsRegressor()\n",
    "dt = DecisionTreeRegressor(random_state=42)\n",
    "rf = RandomForestRegressor(random_state=42)\n",
    "gb = GradientBoostingRegressor(random_state=42)\n",
    "xgb = XGBRegressor(random_state=42)\n",
    "\n",
    "\n",
    "# Pemodelan dilakukan dalam skala logaritmik, namun kemudian di-inverse kembali untuk interpretasi\n",
    "log_lr = TransformedTargetRegressor(lr, func=np.log, inverse_func=np.exp)\n",
    "log_knn = TransformedTargetRegressor(knn, func=np.log, inverse_func=np.exp)\n",
    "log_dt = TransformedTargetRegressor(dt, func=np.log, inverse_func=np.exp)\n",
    "log_rf = TransformedTargetRegressor(rf, func=np.log, inverse_func=np.exp)\n",
    "log_gb = TransformedTargetRegressor(gb, func=np.log, inverse_func=np.exp)\n",
    "log_xgb = TransformedTargetRegressor(xgb, func=np.log, inverse_func=np.exp)\n"
   ]
  },
  {
   "cell_type": "code",
   "execution_count": 63,
   "metadata": {},
   "outputs": [
    {
     "data": {
      "text/html": [
       "<div>\n",
       "<style scoped>\n",
       "    .dataframe tbody tr th:only-of-type {\n",
       "        vertical-align: middle;\n",
       "    }\n",
       "\n",
       "    .dataframe tbody tr th {\n",
       "        vertical-align: top;\n",
       "    }\n",
       "\n",
       "    .dataframe thead th {\n",
       "        text-align: right;\n",
       "    }\n",
       "</style>\n",
       "<table border=\"1\" class=\"dataframe\">\n",
       "  <thead>\n",
       "    <tr style=\"text-align: right;\">\n",
       "      <th></th>\n",
       "      <th>model</th>\n",
       "      <th>MAE</th>\n",
       "      <th>MAPE</th>\n",
       "      <th>R2</th>\n",
       "    </tr>\n",
       "  </thead>\n",
       "  <tbody>\n",
       "    <tr>\n",
       "      <th>0</th>\n",
       "      <td>Linear Regression</td>\n",
       "      <td>108.221783</td>\n",
       "      <td>1.413258</td>\n",
       "      <td>0.178131</td>\n",
       "    </tr>\n",
       "    <tr>\n",
       "      <th>1</th>\n",
       "      <td>KNN Regressor</td>\n",
       "      <td>45.703390</td>\n",
       "      <td>0.444276</td>\n",
       "      <td>0.833066</td>\n",
       "    </tr>\n",
       "    <tr>\n",
       "      <th>2</th>\n",
       "      <td>DecisionTree Regressor</td>\n",
       "      <td>42.734993</td>\n",
       "      <td>0.466782</td>\n",
       "      <td>0.833400</td>\n",
       "    </tr>\n",
       "    <tr>\n",
       "      <th>3</th>\n",
       "      <td>RandomForest Regressor</td>\n",
       "      <td>32.757434</td>\n",
       "      <td>0.329204</td>\n",
       "      <td>0.907222</td>\n",
       "    </tr>\n",
       "    <tr>\n",
       "      <th>4</th>\n",
       "      <td>Gradient Boosting</td>\n",
       "      <td>55.558862</td>\n",
       "      <td>0.474801</td>\n",
       "      <td>0.763944</td>\n",
       "    </tr>\n",
       "    <tr>\n",
       "      <th>5</th>\n",
       "      <td>XGBoost Regressor</td>\n",
       "      <td>28.881241</td>\n",
       "      <td>0.271619</td>\n",
       "      <td>0.931213</td>\n",
       "    </tr>\n",
       "  </tbody>\n",
       "</table>\n",
       "</div>"
      ],
      "text/plain": [
       "                    model         MAE      MAPE        R2\n",
       "0       Linear Regression  108.221783  1.413258  0.178131\n",
       "1           KNN Regressor   45.703390  0.444276  0.833066\n",
       "2  DecisionTree Regressor   42.734993  0.466782  0.833400\n",
       "3  RandomForest Regressor   32.757434  0.329204  0.907222\n",
       "4       Gradient Boosting   55.558862  0.474801  0.763944\n",
       "5       XGBoost Regressor   28.881241  0.271619  0.931213"
      ]
     },
     "execution_count": 63,
     "metadata": {},
     "output_type": "execute_result"
    }
   ],
   "source": [
    "list_model = [log_lr, log_knn, log_dt, log_rf, log_gb, log_xgb]\n",
    "\n",
    "score_mae = []\n",
    "score_mape = []\n",
    "score_r2 = []\n",
    "\n",
    "# Mencari algoritma terbaik berdasarkan nilai MAE\n",
    "for model in list_model:\n",
    "    crossval = KFold(n_splits=5, shuffle=True, random_state=42)\n",
    "\n",
    "    estimator = Pipeline([\n",
    "        ('Preprocessing', transformer),\n",
    "        ('model', model)\n",
    "    ])\n",
    "\n",
    "    # MAE\n",
    "    model_cv_mae = cross_val_score(\n",
    "        estimator,\n",
    "        X_train,\n",
    "        y_train,\n",
    "        cv=crossval,\n",
    "        scoring='neg_mean_absolute_error',\n",
    "        error_score='raise'\n",
    "    )\n",
    "    score_mae.append(abs(model_cv_mae.mean()))\n",
    "\n",
    "    # MAPE\n",
    "    model_cv_mape = cross_val_score(\n",
    "        estimator,\n",
    "        X_train,\n",
    "        y_train,\n",
    "        cv=crossval,\n",
    "        scoring='neg_mean_absolute_percentage_error',\n",
    "        error_score='raise'\n",
    "    )\n",
    "    score_mape.append(abs(model_cv_mape.mean()))\n",
    "\n",
    "    # R2\n",
    "    model_cv_r2 = cross_val_score(\n",
    "        estimator,\n",
    "        X_train,\n",
    "        y_train,\n",
    "        cv=crossval,\n",
    "        scoring='r2',\n",
    "        error_score='raise'\n",
    "    )\n",
    "    score_r2.append(model_cv_r2.mean())\n",
    "\n",
    "model_bench = pd.DataFrame({\n",
    "    'model': ['Linear Regression', 'KNN Regressor', 'DecisionTree Regressor', 'RandomForest Regressor', 'Gradient Boosting', 'XGBoost Regressor'],\n",
    "    'MAE': score_mae,\n",
    "    'MAPE': score_mape,\n",
    "    'R2': score_r2\n",
    "})\n",
    "\n",
    "model_bench"
   ]
  },
  {
   "attachments": {},
   "cell_type": "markdown",
   "metadata": {},
   "source": [
    "Dari hasil di atas, diketahui bahwa model XGBoost menjadi model yang terbaik karena memiliki performa nilai MAE (28.11), MAPE (0.27), dan R-squared (0.93) yang lebih baik dibandingkan model lainnya. Berikutnya kita akan melakukan prediksi pada Test Set dengan menggunakan benchmark model yaitu XGBoost. "
   ]
  },
  {
   "attachments": {},
   "cell_type": "markdown",
   "metadata": {},
   "source": [
    "**Extreme Gradient Boosting (XGBoost)**"
   ]
  },
  {
   "attachments": {},
   "cell_type": "markdown",
   "metadata": {},
   "source": [
    "Extreme Gradient Boosting (XGBoost) merupakan salah satu model yang termasuk ke dalam *similar type ensemble method*. Di dalam algoritma ini, *Decision Trees* dibuat dalam bentuk yang sekuensial, dimana bobot memiliki peran yang penting dalam XGBoost. Bobot diterapkan kepada semua variabel independen yang nantinya akan dimasukkan ke dalam *Decision Trees* untuk memprediksi hasil. Bobot dari variabel yang diprediksi salah akan ditambahkan dan variabel ini akan dimasukkan ke dalam *Decision Tree* yang berikutnya [(link sumber)](https://www.geeksforgeeks.org/xgboost/). Model ini termasuk ke dalam *non-interpretable* model dikarenakan kita tidak dapat mengetahui variabel mana yang salah diprediksi. XGBoost memiliki kinerja yang baik karena termasuk model yang robust untuk berbagai jenis data."
   ]
  },
  {
   "attachments": {},
   "cell_type": "markdown",
   "metadata": {},
   "source": [
    "**Predict to Test Set with the Benchmark Model**"
   ]
  },
  {
   "attachments": {},
   "cell_type": "markdown",
   "metadata": {},
   "source": [
    "Melakukan prediksi pada Test Set menggunakan model XGBoost"
   ]
  },
  {
   "cell_type": "code",
   "execution_count": 77,
   "metadata": {},
   "outputs": [
    {
     "data": {
      "text/html": [
       "<div>\n",
       "<style scoped>\n",
       "    .dataframe tbody tr th:only-of-type {\n",
       "        vertical-align: middle;\n",
       "    }\n",
       "\n",
       "    .dataframe tbody tr th {\n",
       "        vertical-align: top;\n",
       "    }\n",
       "\n",
       "    .dataframe thead th {\n",
       "        text-align: right;\n",
       "    }\n",
       "</style>\n",
       "<table border=\"1\" class=\"dataframe\">\n",
       "  <thead>\n",
       "    <tr style=\"text-align: right;\">\n",
       "      <th></th>\n",
       "      <th>MAE</th>\n",
       "      <th>MAPE</th>\n",
       "      <th>R-squared</th>\n",
       "    </tr>\n",
       "  </thead>\n",
       "  <tbody>\n",
       "    <tr>\n",
       "      <th>XGB</th>\n",
       "      <td>27.079164</td>\n",
       "      <td>0.262935</td>\n",
       "      <td>0.94301</td>\n",
       "    </tr>\n",
       "  </tbody>\n",
       "</table>\n",
       "</div>"
      ],
      "text/plain": [
       "           MAE      MAPE  R-squared\n",
       "XGB  27.079164  0.262935    0.94301"
      ]
     },
     "execution_count": 77,
     "metadata": {},
     "output_type": "execute_result"
    }
   ],
   "source": [
    "xgb = TransformedTargetRegressor(XGBRegressor(random_state=42), func=np.log, inverse_func=np.exp)\n",
    "\n",
    "score_mae = []\n",
    "score_mape = []\n",
    "score_r2 = []\n",
    "\n",
    "estimator = Pipeline([\n",
    "    ('preprocessing', transformer),\n",
    "    ('model', xgb)\n",
    "])\n",
    "\n",
    "estimator.fit(X_train, y_train)\n",
    "y_pred = estimator.predict(X_test)\n",
    "score_mae.append(mean_absolute_error(y_test, y_pred))\n",
    "score_mape.append(mean_absolute_percentage_error(y_test, y_pred))\n",
    "score_r2.append(r2_score(y_test, y_pred))\n",
    "\n",
    "score_before_tuning = pd.DataFrame({'MAE': score_mae, 'MAPE': score_mape, 'R-squared':score_r2}, index=['XGB'])\n",
    "score_before_tuning"
   ]
  },
  {
   "attachments": {},
   "cell_type": "markdown",
   "metadata": {},
   "source": [
    "Terlihat bahwa ketika melakukan prediksi pada Test Set, XGBoost tetap memiliki performa yang baik. Dimana nilai MAE dan MAPE menurun, sedangkan nilai R2 mengalami peningkatan."
   ]
  },
  {
   "attachments": {},
   "cell_type": "markdown",
   "metadata": {},
   "source": [
    "**Hyperparameter Tuning (GridSearch**)"
   ]
  },
  {
   "attachments": {},
   "cell_type": "markdown",
   "metadata": {},
   "source": [
    "Selanjutnya kita akan melakukan Hyperparameter Tuning pada model XGBoost dengan harapan hasil yang nantinya didapatkan menjadi lebih baik. Pada tahap hyperparameter tuning ini kita akan menggunakan `GridSearch` untuk mencoba seluruh kombinasi hyperparameter. Parameter yang akan digunakan akan dibatasi berupa **max_depth** (kedalaman pohon), **learning_rate** (ukuran step pada tiap iterasi), dan **n_estimators** (jumlah pohon). Hal ini dilakukan guna mencegah terjadinya overfitting yang bisa disebabkan jika model terlalu kompleks dan juga untuk menjaga efisiensi kinerja dari device (laptop) yang digunakan."
   ]
  },
  {
   "cell_type": "code",
   "execution_count": 78,
   "metadata": {},
   "outputs": [],
   "source": [
    "# Kedalaman pohon\n",
    "max_depth = [2,3,4,5,6,7,8,9]\n",
    "\n",
    "# Learning rate\n",
    "learning_rate = [0.1, 0.001, 0.0001, 0.2, 0.3, 0.5, 0,7]\n",
    "\n",
    "# Jumlah pohon\n",
    "n_estimators = list(np.arange(200, 301, 20))\n",
    "\n",
    "hyperparam_space_xgb = {\n",
    "    'model__max_depth': max_depth, \n",
    "    'model__learning_rate': learning_rate,\n",
    "    'model__n_estimators': n_estimators\n",
    "}\n",
    "\n",
    "xgb = XGBRegressor(random_state=42, verbosity=0)\n",
    "\n",
    "# Membuat algorithm chains\n",
    "estimator_xgb = Pipeline([\n",
    "        ('preprocessing', transformer),\n",
    "        ('model', xgb)\n",
    "        ])\n",
    "\n",
    "crossval = KFold(n_splits=5, shuffle=True, random_state=42)\n",
    " \n",
    "# Hyperparameter tuning(GridSearchCV)\n",
    "gridsearch_xgb = GridSearchCV(\n",
    "    estimator_xgb, \n",
    "    param_grid = hyperparam_space_xgb,\n",
    "    cv = crossval, \n",
    "    scoring = 'neg_mean_absolute_error',\n",
    "    n_jobs = -1,\n",
    "    verbose=1\n",
    ")"
   ]
  },
  {
   "cell_type": "code",
   "execution_count": 79,
   "metadata": {},
   "outputs": [
    {
     "name": "stdout",
     "output_type": "stream",
     "text": [
      "Fitting 5 folds for each of 384 candidates, totalling 1920 fits\n"
     ]
    },
    {
     "data": {
      "text/html": [
       "<style>#sk-container-id-2 {color: black;background-color: white;}#sk-container-id-2 pre{padding: 0;}#sk-container-id-2 div.sk-toggleable {background-color: white;}#sk-container-id-2 label.sk-toggleable__label {cursor: pointer;display: block;width: 100%;margin-bottom: 0;padding: 0.3em;box-sizing: border-box;text-align: center;}#sk-container-id-2 label.sk-toggleable__label-arrow:before {content: \"▸\";float: left;margin-right: 0.25em;color: #696969;}#sk-container-id-2 label.sk-toggleable__label-arrow:hover:before {color: black;}#sk-container-id-2 div.sk-estimator:hover label.sk-toggleable__label-arrow:before {color: black;}#sk-container-id-2 div.sk-toggleable__content {max-height: 0;max-width: 0;overflow: hidden;text-align: left;background-color: #f0f8ff;}#sk-container-id-2 div.sk-toggleable__content pre {margin: 0.2em;color: black;border-radius: 0.25em;background-color: #f0f8ff;}#sk-container-id-2 input.sk-toggleable__control:checked~div.sk-toggleable__content {max-height: 200px;max-width: 100%;overflow: auto;}#sk-container-id-2 input.sk-toggleable__control:checked~label.sk-toggleable__label-arrow:before {content: \"▾\";}#sk-container-id-2 div.sk-estimator input.sk-toggleable__control:checked~label.sk-toggleable__label {background-color: #d4ebff;}#sk-container-id-2 div.sk-label input.sk-toggleable__control:checked~label.sk-toggleable__label {background-color: #d4ebff;}#sk-container-id-2 input.sk-hidden--visually {border: 0;clip: rect(1px 1px 1px 1px);clip: rect(1px, 1px, 1px, 1px);height: 1px;margin: -1px;overflow: hidden;padding: 0;position: absolute;width: 1px;}#sk-container-id-2 div.sk-estimator {font-family: monospace;background-color: #f0f8ff;border: 1px dotted black;border-radius: 0.25em;box-sizing: border-box;margin-bottom: 0.5em;}#sk-container-id-2 div.sk-estimator:hover {background-color: #d4ebff;}#sk-container-id-2 div.sk-parallel-item::after {content: \"\";width: 100%;border-bottom: 1px solid gray;flex-grow: 1;}#sk-container-id-2 div.sk-label:hover label.sk-toggleable__label {background-color: #d4ebff;}#sk-container-id-2 div.sk-serial::before {content: \"\";position: absolute;border-left: 1px solid gray;box-sizing: border-box;top: 0;bottom: 0;left: 50%;z-index: 0;}#sk-container-id-2 div.sk-serial {display: flex;flex-direction: column;align-items: center;background-color: white;padding-right: 0.2em;padding-left: 0.2em;position: relative;}#sk-container-id-2 div.sk-item {position: relative;z-index: 1;}#sk-container-id-2 div.sk-parallel {display: flex;align-items: stretch;justify-content: center;background-color: white;position: relative;}#sk-container-id-2 div.sk-item::before, #sk-container-id-2 div.sk-parallel-item::before {content: \"\";position: absolute;border-left: 1px solid gray;box-sizing: border-box;top: 0;bottom: 0;left: 50%;z-index: -1;}#sk-container-id-2 div.sk-parallel-item {display: flex;flex-direction: column;z-index: 1;position: relative;background-color: white;}#sk-container-id-2 div.sk-parallel-item:first-child::after {align-self: flex-end;width: 50%;}#sk-container-id-2 div.sk-parallel-item:last-child::after {align-self: flex-start;width: 50%;}#sk-container-id-2 div.sk-parallel-item:only-child::after {width: 0;}#sk-container-id-2 div.sk-dashed-wrapped {border: 1px dashed gray;margin: 0 0.4em 0.5em 0.4em;box-sizing: border-box;padding-bottom: 0.4em;background-color: white;}#sk-container-id-2 div.sk-label label {font-family: monospace;font-weight: bold;display: inline-block;line-height: 1.2em;}#sk-container-id-2 div.sk-label-container {text-align: center;}#sk-container-id-2 div.sk-container {/* jupyter's `normalize.less` sets `[hidden] { display: none; }` but bootstrap.min.css set `[hidden] { display: none !important; }` so we also need the `!important` here to be able to override the default hidden behavior on the sphinx rendered scikit-learn.org. See: https://github.com/scikit-learn/scikit-learn/issues/21755 */display: inline-block !important;position: relative;}#sk-container-id-2 div.sk-text-repr-fallback {display: none;}</style><div id=\"sk-container-id-2\" class=\"sk-top-container\"><div class=\"sk-text-repr-fallback\"><pre>GridSearchCV(cv=KFold(n_splits=5, random_state=42, shuffle=True),\n",
       "             estimator=Pipeline(steps=[(&#x27;preprocessing&#x27;,\n",
       "                                        ColumnTransformer(remainder=&#x27;passthrough&#x27;,\n",
       "                                                          transformers=[(&#x27;One &#x27;\n",
       "                                                                         &#x27;Hot&#x27;,\n",
       "                                                                         OneHotEncoder(drop=&#x27;first&#x27;),\n",
       "                                                                         [&#x27;weather&#x27;,\n",
       "                                                                          &#x27;season&#x27;,\n",
       "                                                                          &#x27;year&#x27;]),\n",
       "                                                                        (&#x27;Binary&#x27;,\n",
       "                                                                         BinaryEncoder(),\n",
       "                                                                         [&#x27;day&#x27;])])),\n",
       "                                       (&#x27;model&#x27;,\n",
       "                                        XGBRegressor(base_score=None,\n",
       "                                                     booster=None,\n",
       "                                                     callbacks=None,\n",
       "                                                     colsample_bylev...\n",
       "                                                     min_child_weight=None,\n",
       "                                                     missing=nan,\n",
       "                                                     monotone_constraints=None,\n",
       "                                                     n_estimators=100,\n",
       "                                                     n_jobs=None,\n",
       "                                                     num_parallel_tree=None,\n",
       "                                                     predictor=None,\n",
       "                                                     random_state=42, ...))]),\n",
       "             n_jobs=-1,\n",
       "             param_grid={&#x27;model__learning_rate&#x27;: [0.1, 0.001, 0.0001, 0.2, 0.3,\n",
       "                                                  0.5, 0, 7],\n",
       "                         &#x27;model__max_depth&#x27;: [2, 3, 4, 5, 6, 7, 8, 9],\n",
       "                         &#x27;model__n_estimators&#x27;: [200, 220, 240, 260, 280, 300]},\n",
       "             scoring=&#x27;neg_mean_absolute_error&#x27;, verbose=1)</pre><b>In a Jupyter environment, please rerun this cell to show the HTML representation or trust the notebook. <br />On GitHub, the HTML representation is unable to render, please try loading this page with nbviewer.org.</b></div><div class=\"sk-container\" hidden><div class=\"sk-item sk-dashed-wrapped\"><div class=\"sk-label-container\"><div class=\"sk-label sk-toggleable\"><input class=\"sk-toggleable__control sk-hidden--visually\" id=\"sk-estimator-id-11\" type=\"checkbox\" ><label for=\"sk-estimator-id-11\" class=\"sk-toggleable__label sk-toggleable__label-arrow\">GridSearchCV</label><div class=\"sk-toggleable__content\"><pre>GridSearchCV(cv=KFold(n_splits=5, random_state=42, shuffle=True),\n",
       "             estimator=Pipeline(steps=[(&#x27;preprocessing&#x27;,\n",
       "                                        ColumnTransformer(remainder=&#x27;passthrough&#x27;,\n",
       "                                                          transformers=[(&#x27;One &#x27;\n",
       "                                                                         &#x27;Hot&#x27;,\n",
       "                                                                         OneHotEncoder(drop=&#x27;first&#x27;),\n",
       "                                                                         [&#x27;weather&#x27;,\n",
       "                                                                          &#x27;season&#x27;,\n",
       "                                                                          &#x27;year&#x27;]),\n",
       "                                                                        (&#x27;Binary&#x27;,\n",
       "                                                                         BinaryEncoder(),\n",
       "                                                                         [&#x27;day&#x27;])])),\n",
       "                                       (&#x27;model&#x27;,\n",
       "                                        XGBRegressor(base_score=None,\n",
       "                                                     booster=None,\n",
       "                                                     callbacks=None,\n",
       "                                                     colsample_bylev...\n",
       "                                                     min_child_weight=None,\n",
       "                                                     missing=nan,\n",
       "                                                     monotone_constraints=None,\n",
       "                                                     n_estimators=100,\n",
       "                                                     n_jobs=None,\n",
       "                                                     num_parallel_tree=None,\n",
       "                                                     predictor=None,\n",
       "                                                     random_state=42, ...))]),\n",
       "             n_jobs=-1,\n",
       "             param_grid={&#x27;model__learning_rate&#x27;: [0.1, 0.001, 0.0001, 0.2, 0.3,\n",
       "                                                  0.5, 0, 7],\n",
       "                         &#x27;model__max_depth&#x27;: [2, 3, 4, 5, 6, 7, 8, 9],\n",
       "                         &#x27;model__n_estimators&#x27;: [200, 220, 240, 260, 280, 300]},\n",
       "             scoring=&#x27;neg_mean_absolute_error&#x27;, verbose=1)</pre></div></div></div><div class=\"sk-parallel\"><div class=\"sk-parallel-item\"><div class=\"sk-item\"><div class=\"sk-label-container\"><div class=\"sk-label sk-toggleable\"><input class=\"sk-toggleable__control sk-hidden--visually\" id=\"sk-estimator-id-12\" type=\"checkbox\" ><label for=\"sk-estimator-id-12\" class=\"sk-toggleable__label sk-toggleable__label-arrow\">estimator: Pipeline</label><div class=\"sk-toggleable__content\"><pre>Pipeline(steps=[(&#x27;preprocessing&#x27;,\n",
       "                 ColumnTransformer(remainder=&#x27;passthrough&#x27;,\n",
       "                                   transformers=[(&#x27;One Hot&#x27;,\n",
       "                                                  OneHotEncoder(drop=&#x27;first&#x27;),\n",
       "                                                  [&#x27;weather&#x27;, &#x27;season&#x27;,\n",
       "                                                   &#x27;year&#x27;]),\n",
       "                                                 (&#x27;Binary&#x27;, BinaryEncoder(),\n",
       "                                                  [&#x27;day&#x27;])])),\n",
       "                (&#x27;model&#x27;,\n",
       "                 XGBRegressor(base_score=None, booster=None, callbacks=None,\n",
       "                              colsample_bylevel=None, colsample_bynode=None,\n",
       "                              colsample_bytree=None, early_stopping_rounds=N...\n",
       "                              feature_types=None, gamma=None, gpu_id=None,\n",
       "                              grow_policy=None, importance_type=None,\n",
       "                              interaction_constraints=None, learning_rate=None,\n",
       "                              max_bin=None, max_cat_threshold=None,\n",
       "                              max_cat_to_onehot=None, max_delta_step=None,\n",
       "                              max_depth=None, max_leaves=None,\n",
       "                              min_child_weight=None, missing=nan,\n",
       "                              monotone_constraints=None, n_estimators=100,\n",
       "                              n_jobs=None, num_parallel_tree=None,\n",
       "                              predictor=None, random_state=42, ...))])</pre></div></div></div><div class=\"sk-serial\"><div class=\"sk-item\"><div class=\"sk-serial\"><div class=\"sk-item sk-dashed-wrapped\"><div class=\"sk-label-container\"><div class=\"sk-label sk-toggleable\"><input class=\"sk-toggleable__control sk-hidden--visually\" id=\"sk-estimator-id-13\" type=\"checkbox\" ><label for=\"sk-estimator-id-13\" class=\"sk-toggleable__label sk-toggleable__label-arrow\">preprocessing: ColumnTransformer</label><div class=\"sk-toggleable__content\"><pre>ColumnTransformer(remainder=&#x27;passthrough&#x27;,\n",
       "                  transformers=[(&#x27;One Hot&#x27;, OneHotEncoder(drop=&#x27;first&#x27;),\n",
       "                                 [&#x27;weather&#x27;, &#x27;season&#x27;, &#x27;year&#x27;]),\n",
       "                                (&#x27;Binary&#x27;, BinaryEncoder(), [&#x27;day&#x27;])])</pre></div></div></div><div class=\"sk-parallel\"><div class=\"sk-parallel-item\"><div class=\"sk-item\"><div class=\"sk-label-container\"><div class=\"sk-label sk-toggleable\"><input class=\"sk-toggleable__control sk-hidden--visually\" id=\"sk-estimator-id-14\" type=\"checkbox\" ><label for=\"sk-estimator-id-14\" class=\"sk-toggleable__label sk-toggleable__label-arrow\">One Hot</label><div class=\"sk-toggleable__content\"><pre>[&#x27;weather&#x27;, &#x27;season&#x27;, &#x27;year&#x27;]</pre></div></div></div><div class=\"sk-serial\"><div class=\"sk-item\"><div class=\"sk-estimator sk-toggleable\"><input class=\"sk-toggleable__control sk-hidden--visually\" id=\"sk-estimator-id-15\" type=\"checkbox\" ><label for=\"sk-estimator-id-15\" class=\"sk-toggleable__label sk-toggleable__label-arrow\">OneHotEncoder</label><div class=\"sk-toggleable__content\"><pre>OneHotEncoder(drop=&#x27;first&#x27;)</pre></div></div></div></div></div></div><div class=\"sk-parallel-item\"><div class=\"sk-item\"><div class=\"sk-label-container\"><div class=\"sk-label sk-toggleable\"><input class=\"sk-toggleable__control sk-hidden--visually\" id=\"sk-estimator-id-16\" type=\"checkbox\" ><label for=\"sk-estimator-id-16\" class=\"sk-toggleable__label sk-toggleable__label-arrow\">Binary</label><div class=\"sk-toggleable__content\"><pre>[&#x27;day&#x27;]</pre></div></div></div><div class=\"sk-serial\"><div class=\"sk-item\"><div class=\"sk-estimator sk-toggleable\"><input class=\"sk-toggleable__control sk-hidden--visually\" id=\"sk-estimator-id-17\" type=\"checkbox\" ><label for=\"sk-estimator-id-17\" class=\"sk-toggleable__label sk-toggleable__label-arrow\">BinaryEncoder</label><div class=\"sk-toggleable__content\"><pre>BinaryEncoder()</pre></div></div></div></div></div></div><div class=\"sk-parallel-item\"><div class=\"sk-item\"><div class=\"sk-label-container\"><div class=\"sk-label sk-toggleable\"><input class=\"sk-toggleable__control sk-hidden--visually\" id=\"sk-estimator-id-18\" type=\"checkbox\" ><label for=\"sk-estimator-id-18\" class=\"sk-toggleable__label sk-toggleable__label-arrow\">remainder</label><div class=\"sk-toggleable__content\"><pre>[&#x27;humidity&#x27;, &#x27;holiday&#x27;, &#x27;atemp&#x27;, &#x27;hour&#x27;, &#x27;month&#x27;]</pre></div></div></div><div class=\"sk-serial\"><div class=\"sk-item\"><div class=\"sk-estimator sk-toggleable\"><input class=\"sk-toggleable__control sk-hidden--visually\" id=\"sk-estimator-id-19\" type=\"checkbox\" ><label for=\"sk-estimator-id-19\" class=\"sk-toggleable__label sk-toggleable__label-arrow\">passthrough</label><div class=\"sk-toggleable__content\"><pre>passthrough</pre></div></div></div></div></div></div></div></div><div class=\"sk-item\"><div class=\"sk-estimator sk-toggleable\"><input class=\"sk-toggleable__control sk-hidden--visually\" id=\"sk-estimator-id-20\" type=\"checkbox\" ><label for=\"sk-estimator-id-20\" class=\"sk-toggleable__label sk-toggleable__label-arrow\">XGBRegressor</label><div class=\"sk-toggleable__content\"><pre>XGBRegressor(base_score=None, booster=None, callbacks=None,\n",
       "             colsample_bylevel=None, colsample_bynode=None,\n",
       "             colsample_bytree=None, early_stopping_rounds=None,\n",
       "             enable_categorical=False, eval_metric=None, feature_types=None,\n",
       "             gamma=None, gpu_id=None, grow_policy=None, importance_type=None,\n",
       "             interaction_constraints=None, learning_rate=None, max_bin=None,\n",
       "             max_cat_threshold=None, max_cat_to_onehot=None,\n",
       "             max_delta_step=None, max_depth=None, max_leaves=None,\n",
       "             min_child_weight=None, missing=nan, monotone_constraints=None,\n",
       "             n_estimators=100, n_jobs=None, num_parallel_tree=None,\n",
       "             predictor=None, random_state=42, ...)</pre></div></div></div></div></div></div></div></div></div></div></div></div>"
      ],
      "text/plain": [
       "GridSearchCV(cv=KFold(n_splits=5, random_state=42, shuffle=True),\n",
       "             estimator=Pipeline(steps=[('preprocessing',\n",
       "                                        ColumnTransformer(remainder='passthrough',\n",
       "                                                          transformers=[('One '\n",
       "                                                                         'Hot',\n",
       "                                                                         OneHotEncoder(drop='first'),\n",
       "                                                                         ['weather',\n",
       "                                                                          'season',\n",
       "                                                                          'year']),\n",
       "                                                                        ('Binary',\n",
       "                                                                         BinaryEncoder(),\n",
       "                                                                         ['day'])])),\n",
       "                                       ('model',\n",
       "                                        XGBRegressor(base_score=None,\n",
       "                                                     booster=None,\n",
       "                                                     callbacks=None,\n",
       "                                                     colsample_bylev...\n",
       "                                                     min_child_weight=None,\n",
       "                                                     missing=nan,\n",
       "                                                     monotone_constraints=None,\n",
       "                                                     n_estimators=100,\n",
       "                                                     n_jobs=None,\n",
       "                                                     num_parallel_tree=None,\n",
       "                                                     predictor=None,\n",
       "                                                     random_state=42, ...))]),\n",
       "             n_jobs=-1,\n",
       "             param_grid={'model__learning_rate': [0.1, 0.001, 0.0001, 0.2, 0.3,\n",
       "                                                  0.5, 0, 7],\n",
       "                         'model__max_depth': [2, 3, 4, 5, 6, 7, 8, 9],\n",
       "                         'model__n_estimators': [200, 220, 240, 260, 280, 300]},\n",
       "             scoring='neg_mean_absolute_error', verbose=1)"
      ]
     },
     "execution_count": 79,
     "metadata": {},
     "output_type": "execute_result"
    }
   ],
   "source": [
    "# Fitting data training untuk mencari parameter terbaik\n",
    "gridsearch_xgb.fit(X_train, y_train)"
   ]
  },
  {
   "cell_type": "code",
   "execution_count": 80,
   "metadata": {},
   "outputs": [
    {
     "name": "stdout",
     "output_type": "stream",
     "text": [
      "XGBoost\n",
      "Best_score -27.18508122238861\n",
      "Best_params {'model__learning_rate': 0.1, 'model__max_depth': 8, 'model__n_estimators': 200}\n"
     ]
    }
   ],
   "source": [
    "print('XGBoost')\n",
    "print('Best_score', gridsearch_xgb.best_score_)\n",
    "print('Best_params', gridsearch_xgb.best_params_)"
   ]
  },
  {
   "cell_type": "code",
   "execution_count": 81,
   "metadata": {},
   "outputs": [
    {
     "data": {
      "text/html": [
       "<div>\n",
       "<style scoped>\n",
       "    .dataframe tbody tr th:only-of-type {\n",
       "        vertical-align: middle;\n",
       "    }\n",
       "\n",
       "    .dataframe tbody tr th {\n",
       "        vertical-align: top;\n",
       "    }\n",
       "\n",
       "    .dataframe thead th {\n",
       "        text-align: right;\n",
       "    }\n",
       "</style>\n",
       "<table border=\"1\" class=\"dataframe\">\n",
       "  <thead>\n",
       "    <tr style=\"text-align: right;\">\n",
       "      <th></th>\n",
       "      <th>MAE</th>\n",
       "      <th>MAPE</th>\n",
       "      <th>R-squared</th>\n",
       "    </tr>\n",
       "  </thead>\n",
       "  <tbody>\n",
       "    <tr>\n",
       "      <th>XGB</th>\n",
       "      <td>25.401036</td>\n",
       "      <td>0.250356</td>\n",
       "      <td>0.948515</td>\n",
       "    </tr>\n",
       "  </tbody>\n",
       "</table>\n",
       "</div>"
      ],
      "text/plain": [
       "           MAE      MAPE  R-squared\n",
       "XGB  25.401036  0.250356   0.948515"
      ]
     },
     "execution_count": 81,
     "metadata": {},
     "output_type": "execute_result"
    }
   ],
   "source": [
    "model = { 'XGB' : TransformedTargetRegressor(gridsearch_xgb.best_estimator_, func=np.log, inverse_func=np.exp)\n",
    "         }\n",
    "xgb_tuning = TransformedTargetRegressor(gridsearch_xgb.best_estimator_, func=np.log, inverse_func=np.exp)\n",
    "\n",
    "# Fitting model\n",
    "xgb_tuning.fit(X_train, y_train)\n",
    "\n",
    "# Predict test set\n",
    "y_pred_xgb_tuning = xgb_tuning.predict(X_test)\n",
    "\n",
    "# Simpan nilai metrics RMSE, MAE & MAPE setelah tuning\n",
    "mae_xgb_tuning = mean_absolute_error(y_test, y_pred_xgb_tuning)\n",
    "mape_xgb_tuning = mean_absolute_percentage_error(y_test, y_pred_xgb_tuning)\n",
    "r2_xgb_tuning = r2_score(y_test, y_pred_xgb_tuning)\n",
    "\n",
    "score_after_tuning = pd.DataFrame({'MAE': mae_xgb_tuning, 'MAPE': mape_xgb_tuning, 'R-squared': r2_xgb_tuning}, index=model.keys())\n",
    "score_after_tuning"
   ]
  },
  {
   "attachments": {},
   "cell_type": "markdown",
   "metadata": {},
   "source": [
    "**Performance Comparison**\n",
    "\n",
    "Berikut adalah komparasi performa model XGBoost sebelum dan sesudah dilakukan Hyperparameter Tuning"
   ]
  },
  {
   "cell_type": "code",
   "execution_count": 82,
   "metadata": {},
   "outputs": [
    {
     "data": {
      "text/html": [
       "<div>\n",
       "<style scoped>\n",
       "    .dataframe tbody tr th:only-of-type {\n",
       "        vertical-align: middle;\n",
       "    }\n",
       "\n",
       "    .dataframe tbody tr th {\n",
       "        vertical-align: top;\n",
       "    }\n",
       "\n",
       "    .dataframe thead th {\n",
       "        text-align: right;\n",
       "    }\n",
       "</style>\n",
       "<table border=\"1\" class=\"dataframe\">\n",
       "  <thead>\n",
       "    <tr style=\"text-align: right;\">\n",
       "      <th></th>\n",
       "      <th>MAE</th>\n",
       "      <th>MAPE</th>\n",
       "      <th>R-squared</th>\n",
       "    </tr>\n",
       "  </thead>\n",
       "  <tbody>\n",
       "    <tr>\n",
       "      <th>XGB</th>\n",
       "      <td>27.079164</td>\n",
       "      <td>0.262935</td>\n",
       "      <td>0.94301</td>\n",
       "    </tr>\n",
       "  </tbody>\n",
       "</table>\n",
       "</div>"
      ],
      "text/plain": [
       "           MAE      MAPE  R-squared\n",
       "XGB  27.079164  0.262935    0.94301"
      ]
     },
     "execution_count": 82,
     "metadata": {},
     "output_type": "execute_result"
    }
   ],
   "source": [
    "score_before_tuning"
   ]
  },
  {
   "cell_type": "code",
   "execution_count": 83,
   "metadata": {},
   "outputs": [
    {
     "data": {
      "text/html": [
       "<div>\n",
       "<style scoped>\n",
       "    .dataframe tbody tr th:only-of-type {\n",
       "        vertical-align: middle;\n",
       "    }\n",
       "\n",
       "    .dataframe tbody tr th {\n",
       "        vertical-align: top;\n",
       "    }\n",
       "\n",
       "    .dataframe thead th {\n",
       "        text-align: right;\n",
       "    }\n",
       "</style>\n",
       "<table border=\"1\" class=\"dataframe\">\n",
       "  <thead>\n",
       "    <tr style=\"text-align: right;\">\n",
       "      <th></th>\n",
       "      <th>MAE</th>\n",
       "      <th>MAPE</th>\n",
       "      <th>R-squared</th>\n",
       "    </tr>\n",
       "  </thead>\n",
       "  <tbody>\n",
       "    <tr>\n",
       "      <th>XGB</th>\n",
       "      <td>25.401036</td>\n",
       "      <td>0.250356</td>\n",
       "      <td>0.948515</td>\n",
       "    </tr>\n",
       "  </tbody>\n",
       "</table>\n",
       "</div>"
      ],
      "text/plain": [
       "           MAE      MAPE  R-squared\n",
       "XGB  25.401036  0.250356   0.948515"
      ]
     },
     "execution_count": 83,
     "metadata": {},
     "output_type": "execute_result"
    }
   ],
   "source": [
    "score_after_tuning"
   ]
  },
  {
   "attachments": {},
   "cell_type": "markdown",
   "metadata": {},
   "source": [
    "Terlihat bahwa model mengalami peningkatan performa, dimana nilai MAE dan MAPE menurun serta nilai R2 yang meningkat walaupun tidak signifikan.\n",
    "- MAE, MAPE, dan R2 sebelum tuning: 27.07, 0.26, dan 0.94\n",
    "- MAE, MAPE, dan R2 setelah tuning: 25.40, 0.25, dan 0.94"
   ]
  },
  {
   "cell_type": "code",
   "execution_count": 84,
   "metadata": {},
   "outputs": [
    {
     "data": {
      "image/png": "[encoded data removed]",
      "text/plain": [
       "<Figure size 1400x800 with 1 Axes>"
      ]
     },
     "metadata": {},
     "output_type": "display_data"
    }
   ],
   "source": [
    "plt.figure(figsize=(14, 8))\n",
    "sns.regplot(x=y_test, y=y_pred_xgb_tuning, ci=None, scatter_kws={'color': 'red', 'alpha': 0.3}, line_kws= {'color':'blue', 'alpha': 0.5}).set(title='Actual vs. Prediction Count',\n",
    "                                                xlabel='Actual Count',\n",
    "                                                ylabel='Predicted Count')\n",
    "plt.show()"
   ]
  },
  {
   "attachments": {},
   "cell_type": "markdown",
   "metadata": {},
   "source": [
    "Dari grafik regplot di atas terlihat bahwa model masih mampu melakukan predikisi dengan cukup baik hingga mencapai nilai jumlah sepeda di kisaran 600 unit. Namun kita akan mencoba mengecek lebih jauh hasil metrik MAE dan MAPE dengan mengelompokkan Target (count) pada data Test dalam range tertentu."
   ]
  },
  {
   "cell_type": "code",
   "execution_count": 85,
   "metadata": {},
   "outputs": [
    {
     "data": {
      "image/png": "[encoded data removed]",
      "text/plain": [
       "<Figure size 1000x800 with 1 Axes>"
      ]
     },
     "metadata": {},
     "output_type": "display_data"
    }
   ],
   "source": [
    "residual = y_test - y_pred_xgb_tuning\n",
    "\n",
    "plt.figure(figsize=(10,8))\n",
    "sns.scatterplot(x=y_pred_xgb_tuning, y=residual).set(title='Residual Plot', xlabel='Predicted Count', ylabel='Error Count')\n",
    "plt.axhline(0, color='red', linestyle='--')\n",
    "\n",
    "plt.show()"
   ]
  },
  {
   "cell_type": "code",
   "execution_count": 51,
   "metadata": {},
   "outputs": [
    {
     "data": {
      "text/html": [
       "<div>\n",
       "<style scoped>\n",
       "    .dataframe tbody tr th:only-of-type {\n",
       "        vertical-align: middle;\n",
       "    }\n",
       "\n",
       "    .dataframe tbody tr th {\n",
       "        vertical-align: top;\n",
       "    }\n",
       "\n",
       "    .dataframe thead th {\n",
       "        text-align: right;\n",
       "    }\n",
       "</style>\n",
       "<table border=\"1\" class=\"dataframe\">\n",
       "  <thead>\n",
       "    <tr style=\"text-align: right;\">\n",
       "      <th></th>\n",
       "      <th>Score MAE</th>\n",
       "      <th>Score MAPE</th>\n",
       "    </tr>\n",
       "  </thead>\n",
       "  <tbody>\n",
       "    <tr>\n",
       "      <th>&lt;=50</th>\n",
       "      <td>6.414451</td>\n",
       "      <td>0.479099</td>\n",
       "    </tr>\n",
       "    <tr>\n",
       "      <th>51-100</th>\n",
       "      <td>19.401112</td>\n",
       "      <td>0.272122</td>\n",
       "    </tr>\n",
       "    <tr>\n",
       "      <th>101-150</th>\n",
       "      <td>24.287318</td>\n",
       "      <td>0.195764</td>\n",
       "    </tr>\n",
       "    <tr>\n",
       "      <th>151-200</th>\n",
       "      <td>25.528128</td>\n",
       "      <td>0.147697</td>\n",
       "    </tr>\n",
       "    <tr>\n",
       "      <th>201-250</th>\n",
       "      <td>33.561909</td>\n",
       "      <td>0.150302</td>\n",
       "    </tr>\n",
       "    <tr>\n",
       "      <th>251-300</th>\n",
       "      <td>32.091666</td>\n",
       "      <td>0.116855</td>\n",
       "    </tr>\n",
       "    <tr>\n",
       "      <th>301-350</th>\n",
       "      <td>38.719513</td>\n",
       "      <td>0.119290</td>\n",
       "    </tr>\n",
       "    <tr>\n",
       "      <th>351-400</th>\n",
       "      <td>46.308589</td>\n",
       "      <td>0.123908</td>\n",
       "    </tr>\n",
       "    <tr>\n",
       "      <th>401-450</th>\n",
       "      <td>52.040149</td>\n",
       "      <td>0.123582</td>\n",
       "    </tr>\n",
       "    <tr>\n",
       "      <th>451-500</th>\n",
       "      <td>56.880694</td>\n",
       "      <td>0.119779</td>\n",
       "    </tr>\n",
       "    <tr>\n",
       "      <th>501-550</th>\n",
       "      <td>66.245597</td>\n",
       "      <td>0.127422</td>\n",
       "    </tr>\n",
       "    <tr>\n",
       "      <th>551-600</th>\n",
       "      <td>51.722427</td>\n",
       "      <td>0.090018</td>\n",
       "    </tr>\n",
       "    <tr>\n",
       "      <th>&gt;600</th>\n",
       "      <td>63.180542</td>\n",
       "      <td>0.088679</td>\n",
       "    </tr>\n",
       "    <tr>\n",
       "      <th>All Count Range (Max 953)</th>\n",
       "      <td>26.174921</td>\n",
       "      <td>0.253480</td>\n",
       "    </tr>\n",
       "  </tbody>\n",
       "</table>\n",
       "</div>"
      ],
      "text/plain": [
       "                           Score MAE  Score MAPE\n",
       "<=50                        6.414451    0.479099\n",
       "51-100                     19.401112    0.272122\n",
       "101-150                    24.287318    0.195764\n",
       "151-200                    25.528128    0.147697\n",
       "201-250                    33.561909    0.150302\n",
       "251-300                    32.091666    0.116855\n",
       "301-350                    38.719513    0.119290\n",
       "351-400                    46.308589    0.123908\n",
       "401-450                    52.040149    0.123582\n",
       "451-500                    56.880694    0.119779\n",
       "501-550                    66.245597    0.127422\n",
       "551-600                    51.722427    0.090018\n",
       ">600                       63.180542    0.088679\n",
       "All Count Range (Max 953)  26.174921    0.253480"
      ]
     },
     "execution_count": 51,
     "metadata": {},
     "output_type": "execute_result"
    }
   ],
   "source": [
    "dftarget = pd.DataFrame({'Actual Count': y_test, 'Predicted Count': y_pred_xgb_tuning})\n",
    "\n",
    "df50 = dftarget[dftarget['Actual Count'] <=50]\n",
    "df100 = dftarget[(dftarget['Actual Count']>50) & (dftarget['Actual Count']<=100)]\n",
    "df150 = dftarget[(dftarget['Actual Count']>100) & (dftarget['Actual Count']<=150)]\n",
    "df200 = dftarget[(dftarget['Actual Count']>150) & (dftarget['Actual Count']<=200)]\n",
    "df250 = dftarget[(dftarget['Actual Count']>200) & (dftarget['Actual Count']<=250)]\n",
    "df300 = dftarget[(dftarget['Actual Count']>250) & (dftarget['Actual Count']<=300)]\n",
    "df350 = dftarget[(dftarget['Actual Count']>300) & (dftarget['Actual Count']<=350)]\n",
    "df400 = dftarget[(dftarget['Actual Count']>350) & (dftarget['Actual Count']<=400)]\n",
    "df450 = dftarget[(dftarget['Actual Count']>400) & (dftarget['Actual Count']<=450)]\n",
    "df500 = dftarget[(dftarget['Actual Count']>450) & (dftarget['Actual Count']<=500)]\n",
    "df550 = dftarget[(dftarget['Actual Count']>500) & (dftarget['Actual Count']<=550)]\n",
    "df600 = dftarget[(dftarget['Actual Count']>550) & (dftarget['Actual Count']<=600)]\n",
    "df600plus = dftarget[dftarget['Actual Count']>600]\n",
    "\n",
    "target_range = [df50, df100, df150, df200, df250, df300, df350, df400, df450, df500, df550, df600, df600plus, dftarget]\n",
    "index_range = ['<=50', '51-100', '101-150', '151-200', '201-250', '251-300', '301-350', '351-400', '401-450', '451-500', '501-550', '551-600', '>600', 'All Count Range (Max 953)']\n",
    "mae = []\n",
    "mape = []\n",
    "for target in target_range:\n",
    "    scoremae = mean_absolute_error(target['Actual Count'], target['Predicted Count'])\n",
    "    scoremape = mean_absolute_percentage_error(target['Actual Count'], target['Predicted Count'])\n",
    "    mae.append(scoremae)\n",
    "    mape.append(scoremape)\n",
    "\n",
    "range_metrics = pd.DataFrame({\n",
    "              \"Score MAE\": mae,\n",
    "              \"Score MAPE\": mape}, index=index_range)\n",
    "range_metrics"
   ]
  },
  {
   "attachments": {},
   "cell_type": "markdown",
   "metadata": {},
   "source": [
    "Berdasarkan hasil pengelompokkan target tersebut terlihat bahwa untuk target dengan jumlah unit sepeda yang disewa sampai dengan 50 memiliki nilai MAPE yang cukup besar (~50%), walaupun pembagian data training dan testing untuk range tersebut sudah cukup baik, training (2418) dan testing (1008). Dari hasil pengelompokkan tersebut, bisa dilihat limitasi model dapat memprediksi dengan baik untuk jumlah unit sepeda di atas 50 unit, dengan hasil nilai evaluasi metrik yang masih cukup baik dan reasonable."
   ]
  },
  {
   "attachments": {},
   "cell_type": "markdown",
   "metadata": {},
   "source": [
    "**Feature Importances**"
   ]
  },
  {
   "cell_type": "code",
   "execution_count": 52,
   "metadata": {},
   "outputs": [
    {
     "data": {
      "text/plain": [
       "['weather_Light snow/Light rain',\n",
       " 'weather_clear',\n",
       " 'weather_cloudy',\n",
       " 'season_spring',\n",
       " 'season_summer',\n",
       " 'season_winter',\n",
       " 'year_2012',\n",
       " 'day_0',\n",
       " 'day_1',\n",
       " 'day_2',\n",
       " 'humidity',\n",
       " 'holiday',\n",
       " 'atemp',\n",
       " 'hour',\n",
       " 'month']"
      ]
     },
     "execution_count": 52,
     "metadata": {},
     "output_type": "execute_result"
    }
   ],
   "source": [
    "col_feature = [col.split('__')[1] for col in transformer.get_feature_names_out()]\n",
    "col_feature"
   ]
  },
  {
   "cell_type": "code",
   "execution_count": 53,
   "metadata": {},
   "outputs": [
    {
     "data": {
      "image/png": "[encoded data removed]",
      "text/plain": [
       "<Figure size 1200x700 with 1 Axes>"
      ]
     },
     "metadata": {},
     "output_type": "display_data"
    }
   ],
   "source": [
    "# Plot feature importances\n",
    "xgb_tuning = gridsearch_xgb.best_estimator_\n",
    "\n",
    "feature_imp = pd.Series(xgb_tuning['model'].feature_importances_, col_feature).sort_values(ascending = False)\n",
    "plt.figure(figsize=(12,7))\n",
    "feature_imp.plot(kind='barh', title='Feature Importances')\n",
    "plt.show()"
   ]
  },
  {
   "attachments": {},
   "cell_type": "markdown",
   "metadata": {},
   "source": [
    "### **Conclusion**"
   ]
  },
  {
   "attachments": {},
   "cell_type": "markdown",
   "metadata": {},
   "source": [
    "Diketahui hasil dari hyperparameter tuning bahwa parameter terbaik yang dapat digunakan dengan benchmark model XGBoost ialah:\n",
    "- max_depth = 8\n",
    "- learning_rate = 0.1\n",
    "- n_estimators = 200\n",
    "\n",
    "Berdasarkan dari pemodelan yang sudah dilakukan, feature `hour`, `year`, dan `season` menjadi feature yang paling berpengaruh terhadap `count`\n",
    "\n",
    "Metrik evaluasi yang digunakan pada model ini adalah nilai MAE, MAPE, dan R2. Jika dilihat dari nilai MAPE yang dihasilkan oleh model setelah hyperparameter tuning (~25%), dapat disimpulkan bahwa bila nanti model yang dibuat ini digunakan untuk memperkirakan jumlah unit sepeda yang harus disediakan pada rentang nilai yang sudah dilatih terhadap model (maksimal jumlah unit sepeda 970), maka perkiraan jumlahnya rata-rata akan meleset kurang lebih sebesar 25% dari jumlah yang seharusnya.\n",
    "\n",
    "Namun dilihat dari hasil pengelompokkan berdasarkan rentang target dan visualisasi residual, bisa dilihat limitasi model dapat memprediksi dengan baik untuk jumlah unit sepeda di atas 50 unit, dengan hasil nilai evaluasi metrik yang masih cukup baik dan reasonable. Tidak menutup kemungkinan bahwa prediksi yang dihasilkan bisa meleset lebih jauh. Bias tersebut dihasilkan karena terbatasnya feature pada dataset yang berkaitan dengan target (jumlah unit sepeda yang disewa) atau yang mampu merepresentasikan keadaan dimana calon pelanggan memutuskan untuk menggunakan jasa peminjaman sepeda seperti lokasi stasiun sepeda, jarak stasiun sepeda dengan perkantoran/sekolah/ruang publik, dll"
   ]
  },
  {
   "attachments": {},
   "cell_type": "markdown",
   "metadata": {},
   "source": [
    "### **Recommendation**"
   ]
  },
  {
   "attachments": {},
   "cell_type": "markdown",
   "metadata": {},
   "source": [
    "Berikut adalah hal-hal yang dapat dilakukan untuk mengembangkan agar model bisa menjadi lebih baik:\n",
    "\n",
    "1. Adanya penambahan feature yang lebih berkorelasi terhadap target (`count`), seperti lokasi stasiun sepeda dan jarak stasiun sepeda dengan perkantoran/sekolah/ruang publik.\n",
    "\n",
    "2. Adanya penambahan data, dataset yang digunakan hanya dalam rentang 1 tahun (2011-2012). Apabila ada penambahan rentang tahun data dalam dataset, hal itu tentu dapat membantu dalam meningkatkan prediksi dari model.\n",
    "\n",
    "3. Model yang sudah dibuat ini dapat digunakan untuk mengembangkan pembuatan model yang lain. Seperti memprediksi total unit sepeda yang disewa pada lokasi tertentu. Dimana nantinya dapat dianalisa sebagai pertimbangan untuk menambah stasiun sepeda di lokasi-lokasi yang strategis."
   ]
  }
 ],
 "metadata": {
  "kernelspec": {
   "display_name": "Python 3",
   "language": "python",
   "name": "python3"
  },
  "language_info": {
   "codemirror_mode": {
    "name": "ipython",
    "version": 3
   },
   "file_extension": ".py",
   "mimetype": "text/x-python",
   "name": "python",
   "nbconvert_exporter": "python",
   "pygments_lexer": "ipython3",
   "version": "3.11.2"
  },
  "orig_nbformat": 4
 },
 "nbformat": 4,
 "nbformat_minor": 2
}
